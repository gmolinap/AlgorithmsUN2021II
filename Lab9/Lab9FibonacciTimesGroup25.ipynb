{
  "nbformat": 4,
  "nbformat_minor": 0,
  "metadata": {
    "colab": {
      "name": "Lab9FibonacciTimesGroup25.ipynb",
      "provenance": [],
      "collapsed_sections": []
    },
    "kernelspec": {
      "name": "python3",
      "display_name": "Python 3"
    }
  },
  "cells": [
    {
      "cell_type": "markdown",
      "metadata": {
        "id": "X8n2KKvk9VxL"
      },
      "source": [
        "# Fibonacci sequence \n",
        "\n",
        "Fibonacci  - https://en.wikipedia.org/wiki/Fibonacci Leonardo Bonacci, Leonardo of Pisa, or Leonardo Bigollo Pisano ('Leonardo the Traveller from Pisa')  \n",
        "\n",
        "$$\n",
        " f_n = \\left\\{ \n",
        " \\begin{array}{lll}\n",
        " 0& if & n=0\\\\\n",
        " 1& if & n=1\\\\\n",
        " f_{n-1} +   f_{n-2} & if & n> 1 \\text{ (otherwise)}\\\\\n",
        " \\end{array}\n",
        "   \\right.\n",
        "$$\n",
        "\n"
      ]
    },
    {
      "cell_type": "markdown",
      "metadata": {
        "id": "kPF1PvZye5T9"
      },
      "source": [
        "## Fibonacci recursive algorithm $O\\left( \\left(  \\frac{1+\\sqrt(5)}{2}  \\right)^n  lg\\ n\\right)$ [Relaxed asymptotic bound $O(2^n\\ lg\\ n)$]"
      ]
    },
    {
      "cell_type": "code",
      "metadata": {
        "id": "nNNFssFuzeqk"
      },
      "source": [
        "# fibR - Fibonacci Recursive O( ( (1+sqrt(5)/2 )^n lg n ) [Relaxed asymptotic bound O(2^n lg n)] \n",
        "def fibR(n):\n",
        "    if n==0 :\n",
        "        return 0\n",
        "    if n==1 :\n",
        "        return 1\n",
        "    return fibR(n-1)+fibR(n-2)    # for large n´s  the addition will take lg n stetp because the numebers are very large"
      ],
      "execution_count": null,
      "outputs": []
    },
    {
      "cell_type": "markdown",
      "metadata": {
        "id": "h9hJRvO-8TEY"
      },
      "source": [
        "https://www.geeksforgeeks.org/time-process_time-function-in-python/"
      ]
    },
    {
      "cell_type": "code",
      "metadata": {
        "colab": {
          "base_uri": "https://localhost:8080/"
        },
        "id": "uZZFfd-VGiOC",
        "outputId": "50bb3036-4802-4f79-a94c-008b0dc14c32"
      },
      "source": [
        "from time import process_time\n",
        "n=5\n",
        "t0 = process_time()\n",
        "k = fibR(n)\n",
        "tf =process_time()\n",
        "print(\"n=\",n,\"fib(\",n,\")=\",k,\"time\",tf - t0, \"seconds process time\")"
      ],
      "execution_count": null,
      "outputs": [
        {
          "output_type": "stream",
          "name": "stdout",
          "text": [
            "n= 5 fib( 5 )= 5 time 5.931299999994977e-05 seconds process time\n"
          ]
        }
      ]
    },
    {
      "cell_type": "code",
      "metadata": {
        "colab": {
          "base_uri": "https://localhost:8080/"
        },
        "id": "fB6fqkO2GqZ5",
        "outputId": "c87ca310-5786-4f4e-a9ee-eb5692a86ded"
      },
      "source": [
        "from time import process_time\n",
        "n=10\n",
        "t0 = process_time()\n",
        "k = fibR(n)\n",
        "tf =process_time()\n",
        "print(\"n=\",n,\"fib(\",n,\")=\",k,\"time\",tf - t0, \"seconds process time\")"
      ],
      "execution_count": null,
      "outputs": [
        {
          "output_type": "stream",
          "name": "stdout",
          "text": [
            "n= 10 fib( 10 )= 55 time 0.00011907199999994234 seconds process time\n"
          ]
        }
      ]
    },
    {
      "cell_type": "code",
      "metadata": {
        "colab": {
          "base_uri": "https://localhost:8080/"
        },
        "id": "3_XEueisGvmZ",
        "outputId": "e0ac5804-73d2-499e-9cef-bc0da94b4b93"
      },
      "source": [
        "from time import process_time\n",
        "n=17\n",
        "t0 = process_time()\n",
        "k = fibR(n)\n",
        "tf =process_time()\n",
        "print(\"n=\",n,\"fib(\",n,\")=\",k,\"time\",tf - t0, \"seconds process time\")"
      ],
      "execution_count": null,
      "outputs": [
        {
          "output_type": "stream",
          "name": "stdout",
          "text": [
            "n= 17 fib( 17 )= 1597 time 0.0014689390000000024 seconds process time\n"
          ]
        }
      ]
    },
    {
      "cell_type": "code",
      "metadata": {
        "colab": {
          "base_uri": "https://localhost:8080/"
        },
        "id": "y7HczD9rlUKM",
        "outputId": "3d85c82d-29d8-4068-9a7e-b5f04f2ef512"
      },
      "source": [
        "from time import process_time\n",
        "n=40\n",
        "t0 = process_time()\n",
        "k = fibR(n)\n",
        "tf =process_time()\n",
        "print(\"n=\",n,\"fib(\",n,\")=\",k,\"time\",tf - t0, \"seconds process time\")"
      ],
      "execution_count": null,
      "outputs": [
        {
          "output_type": "stream",
          "name": "stdout",
          "text": [
            "n= 40 fib( 40 )= 102334155 time 54.226622674000005 seconds process time\n"
          ]
        }
      ]
    },
    {
      "cell_type": "code",
      "metadata": {
        "id": "jyhk9bOxjWot"
      },
      "source": [
        "from time import process_time\n",
        "\n",
        "def time_recursive_fib(n):\n",
        "  t0 = process_time()\n",
        "  fibR(n)\n",
        "  tf =process_time()\n",
        "  return tf-t0"
      ],
      "execution_count": null,
      "outputs": []
    },
    {
      "cell_type": "code",
      "metadata": {
        "colab": {
          "base_uri": "https://localhost:8080/"
        },
        "id": "Y5d39_tRjX8j",
        "outputId": "7fa68fcc-3993-410c-863b-1ec3cab4b2ca"
      },
      "source": [
        "t_rec_fib={}\n",
        "for n in range(40,46): \n",
        "    t_rec_fib[n] = time_recursive_fib(n)\n",
        "    print(\"n=\",n,\"fib(\",n,\")=\",k,\"time\",t_rec_fib[n], \"seconds process time\")\n"
      ],
      "execution_count": null,
      "outputs": [
        {
          "output_type": "stream",
          "name": "stdout",
          "text": [
            "n= 40 fib( 40 )= 102334155 time 54.159572616000005 seconds process time\n",
            "n= 41 fib( 41 )= 102334155 time 87.151633249 seconds process time\n",
            "n= 42 fib( 42 )= 102334155 time 140.938180632 seconds process time\n",
            "n= 43 fib( 43 )= 102334155 time 228.35397443099998 seconds process time\n",
            "n= 44 fib( 44 )= 102334155 time 370.02795649999996 seconds process time\n",
            "n= 45 fib( 45 )= 102334155 time 597.829475807 seconds process time\n"
          ]
        }
      ]
    },
    {
      "cell_type": "markdown",
      "metadata": {
        "id": "poDxpjJdgEaO"
      },
      "source": [
        "The ratio between time to calculate $f_{n+1}$, noted $T(f_{n})$  and the time to calculate $f_{40}$,$T(f_{41})$  is $\\approx \\frac{1+\\sqrt(5)}{2}$ \n",
        "\n",
        "$$\\frac{T(f_{n+1})}{T(f_{n})}\\approx \\frac{1+\\sqrt(5)}{2} $$"
      ]
    },
    {
      "cell_type": "code",
      "metadata": {
        "colab": {
          "base_uri": "https://localhost:8080/"
        },
        "id": "m1GVc1JJilft",
        "outputId": "a595ec67-0841-44fc-8c4e-6641e31c7125"
      },
      "source": [
        "for n in range(40,45): \n",
        "    print(\"Time fib(\",n,\") / Time fib(\",n+1,\")  =\",t_rec_fib[n+1]/t_rec_fib[n])"
      ],
      "execution_count": null,
      "outputs": [
        {
          "output_type": "stream",
          "name": "stdout",
          "text": [
            "Time fib( 40 ) / Time fib( 41 )  = 1.6091639767344355\n",
            "Time fib( 41 ) / Time fib( 42 )  = 1.617160521012005\n",
            "Time fib( 42 ) / Time fib( 43 )  = 1.6202421047796058\n",
            "Time fib( 43 ) / Time fib( 44 )  = 1.6204139096856778\n",
            "Time fib( 44 ) / Time fib( 45 )  = 1.6156332658259567\n"
          ]
        }
      ]
    },
    {
      "cell_type": "code",
      "metadata": {
        "colab": {
          "base_uri": "https://localhost:8080/"
        },
        "id": "6ebnBUkuqlFM",
        "outputId": "65e9fb9e-9a48-44c1-b897-3f9006ecb7b2"
      },
      "source": [
        "import math\n",
        "(1+math.sqrt(5))/2"
      ],
      "execution_count": null,
      "outputs": [
        {
          "output_type": "execute_result",
          "data": {
            "text/plain": [
              "1.618033988749895"
            ]
          },
          "metadata": {},
          "execution_count": 6
        }
      ]
    },
    {
      "cell_type": "markdown",
      "metadata": {
        "id": "sX326plrQU9O"
      },
      "source": [
        "## Estimated time to recursively caculate of the Fibonacci $f_{n}$\n",
        "\n",
        "Assuming that the recusrive caculation of the Fibonacci $f_{41}$ takes approximately one minute and assuming the time to calcualte the next Fibonacci numbres is the double of the previus, so  $f_{42}$ will take 2 minutes,  $f_{43}$ will take 4 minutes, $f_{44}$ will take  8 minutes and so on.\n",
        "\n",
        "\n",
        "So to calulate $f_{n}$ it will take \n",
        "$$ 2^{(n-41)} \\text{ minutes for } n \\ge 41$$ "
      ]
    },
    {
      "cell_type": "code",
      "metadata": {
        "colab": {
          "base_uri": "https://localhost:8080/"
        },
        "id": "NgWDIIyrSWns",
        "outputId": "2bd31bd6-1e2c-4de9-cffd-ea78d1cdd5d2"
      },
      "source": [
        "print(\"f_n\",\"{0:>25}\".format(\"Minutes\"),\"{0:>25}\".format(\"Hours\"),\"{0:>25}\".format(\"Days\"),  \"{0:>25}\".format(\"Years\"),\"{0:>25}\".format(\"Centuries\"),\"{0:>25}\".format(\"Mileniuns\"))\n",
        "for n in range(41,101):\n",
        "  tmins = 2**(n-41)\n",
        "  print(format(\"f_\"+str(n),'5'),\"{0:>25}\".format(round(tmins,0)), \"{0:>25}\".format(tmins/60),\"{0:>25}\".format(tmins/(60*24)),\"{0:>25}\".format(tmins/(60*24*365)),\"{0:>25}\".format(tmins/(60*24*365*100)),\"{0:>25}\".format(tmins/(60*24*365*1000)))"
      ],
      "execution_count": null,
      "outputs": [
        {
          "output_type": "stream",
          "name": "stdout",
          "text": [
            "f_n                   Minutes                     Hours                      Days                     Years                 Centuries                 Mileniuns\n",
            "f_41                          1      0.016666666666666666     0.0006944444444444445     1.902587519025875e-06     1.902587519025875e-08     1.902587519025875e-09\n",
            "f_42                          2       0.03333333333333333      0.001388888888888889      3.80517503805175e-06      3.80517503805175e-08      3.80517503805175e-09\n",
            "f_43                          4       0.06666666666666667      0.002777777777777778       7.6103500761035e-06       7.6103500761035e-08       7.6103500761035e-09\n",
            "f_44                          8       0.13333333333333333      0.005555555555555556       1.5220700152207e-05       1.5220700152207e-07       1.5220700152207e-08\n",
            "f_45                         16       0.26666666666666666      0.011111111111111112       3.0441400304414e-05       3.0441400304414e-07       3.0441400304414e-08\n",
            "f_46                         32        0.5333333333333333      0.022222222222222223       6.0882800608828e-05       6.0882800608828e-07       6.0882800608828e-08\n",
            "f_47                         64        1.0666666666666667      0.044444444444444446      0.000121765601217656      1.21765601217656e-06      1.21765601217656e-07\n",
            "f_48                        128        2.1333333333333333       0.08888888888888889      0.000243531202435312      2.43531202435312e-06      2.43531202435312e-07\n",
            "f_49                        256         4.266666666666667       0.17777777777777778      0.000487062404870624      4.87062404870624e-06      4.87062404870624e-07\n",
            "f_50                        512         8.533333333333333       0.35555555555555557      0.000974124809741248      9.74124809741248e-06      9.74124809741248e-07\n",
            "f_51                       1024        17.066666666666666        0.7111111111111111      0.001948249619482496     1.948249619482496e-05     1.948249619482496e-06\n",
            "f_52                       2048         34.13333333333333        1.4222222222222223      0.003896499238964992     3.896499238964992e-05     3.896499238964992e-06\n",
            "f_53                       4096         68.26666666666667        2.8444444444444446      0.007792998477929984     7.792998477929985e-05     7.792998477929985e-06\n",
            "f_54                       8192        136.53333333333333         5.688888888888889      0.015585996955859969     0.0001558599695585997     1.558599695585997e-05\n",
            "f_55                      16384        273.06666666666666        11.377777777777778      0.031171993911719938     0.0003117199391171994     3.117199391171994e-05\n",
            "f_56                      32768         546.1333333333333        22.755555555555556      0.062343987823439875     0.0006234398782343988     6.234398782343988e-05\n",
            "f_57                      65536        1092.2666666666667         45.51111111111111       0.12468797564687975     0.0012468797564687975    0.00012468797564687975\n",
            "f_58                     131072        2184.5333333333333         91.02222222222223        0.2493759512937595      0.002493759512937595     0.0002493759512937595\n",
            "f_59                     262144         4369.066666666667        182.04444444444445         0.498751902587519       0.00498751902587519      0.000498751902587519\n",
            "f_60                     524288         8738.133333333333         364.0888888888889         0.997503805175038       0.00997503805175038      0.000997503805175038\n",
            "f_61                    1048576        17476.266666666666         728.1777777777778         1.995007610350076       0.01995007610350076      0.001995007610350076\n",
            "f_62                    2097152         34952.53333333333        1456.3555555555556         3.990015220700152       0.03990015220700152      0.003990015220700152\n",
            "f_63                    4194304         69905.06666666667         2912.711111111111         7.980030441400304       0.07980030441400304      0.007980030441400304\n",
            "f_64                    8388608        139810.13333333333         5825.422222222222        15.960060882800608       0.15960060882800609       0.01596006088280061\n",
            "f_65                   16777216        279620.26666666666        11650.844444444445        31.920121765601216       0.31920121765601217       0.03192012176560122\n",
            "f_66                   33554432         559240.5333333333         23301.68888888889         63.84024353120243        0.6384024353120243       0.06384024353120243\n",
            "f_67                   67108864        1118481.0666666667         46603.37777777778        127.68048706240486        1.2768048706240487       0.12768048706240487\n",
            "f_68                  134217728        2236962.1333333333         93206.75555555556        255.36097412480973        2.5536097412480974       0.25536097412480974\n",
            "f_69                  268435456         4473924.266666667        186413.51111111112        510.72194824961946         5.107219482496195        0.5107219482496195\n",
            "f_70                  536870912         8947848.533333333        372827.02222222224        1021.4438964992389         10.21443896499239         1.021443896499239\n",
            "f_71                 1073741824        17895697.066666666         745654.0444444445        2042.8877929984778         20.42887792998478         2.042887792998478\n",
            "f_72                 2147483648         35791394.13333333         1491308.088888889        4085.7755859969557         40.85775585996956         4.085775585996956\n",
            "f_73                 4294967296         71582788.26666667         2982616.177777778         8171.551171993911         81.71551171993912         8.171551171993912\n",
            "f_74                 8589934592        143165576.53333333         5965232.355555556        16343.102343987823        163.43102343987823        16.343102343987823\n",
            "f_75                17179869184        286331153.06666666        11930464.711111112        32686.204687975645        326.86204687975646        32.686204687975646\n",
            "f_76                34359738368         572662306.1333333        23860929.422222223         65372.40937595129         653.7240937595129         65.37240937595129\n",
            "f_77                68719476736        1145324612.2666667        47721858.844444446        130744.81875190258        1307.4481875190259        130.74481875190259\n",
            "f_78               137438953472        2290649224.5333333         95443717.68888889        261489.63750380516        2614.8963750380517        261.48963750380517\n",
            "f_79               274877906944         4581298449.066667        190887435.37777779         522979.2750076103         5229.792750076103         522.9792750076103\n",
            "f_80               549755813888         9162596898.133333        381774870.75555557        1045958.5500152207        10459.585500152207        1045.9585500152207\n",
            "f_81              1099511627776        18325193796.266666         763549741.5111111        2091917.1000304413        20919.171000304414        2091.9171000304414\n",
            "f_82              2199023255552         36650387592.53333        1527099483.0222223        4183834.2000608826         41838.34200060883         4183.834200060883\n",
            "f_83              4398046511104         73300775185.06667        3054198966.0444446         8367668.400121765         83676.68400121765         8367.668400121765\n",
            "f_84              8796093022208        146601550370.13333         6108397932.088889         16735336.80024353         167353.3680024353         16735.33680024353\n",
            "f_85             17592186044416        293203100740.26666        12216795864.177778         33470673.60048706         334706.7360048706         33470.67360048706\n",
            "f_86             35184372088832         586406201480.5333        24433591728.355556         66941347.20097412         669413.4720097412         66941.34720097412\n",
            "f_87             70368744177664        1172812402961.0667         48867183456.71111        133882694.40194824        1338826.9440194825        133882.69440194825\n",
            "f_88            140737488355328        2345624805922.1333         97734366913.42223         267765388.8038965         2677653.888038965         267765.3888038965\n",
            "f_89            281474976710656         4691249611844.267        195468733826.84445          535530777.607793          5355307.77607793          535530.777607793\n",
            "f_90            562949953421312         9382499223688.533         390937467653.6889         1071061555.215586         10710615.55215586         1071061.555215586\n",
            "f_91           1125899906842624        18764998447377.066         781874935307.3778         2142123110.431172         21421231.10431172         2142123.110431172\n",
            "f_92           2251799813685248         37529996894754.13        1563749870614.7556         4284246220.862344         42842462.20862344         4284246.220862344\n",
            "f_93           4503599627370496         75059993789508.27         3127499741229.511         8568492441.724688         85684924.41724688         8568492.441724688\n",
            "f_94           9007199254740992        150119987579016.53         6254999482459.022        17136984883.449375        171369848.83449376        17136984.883449376\n",
            "f_95          18014398509481984        300239975158033.06        12509998964918.045         34273969766.89875         342739697.6689875         34273969.76689875\n",
            "f_96          36028797018963968         600479950316066.1         25019997929836.09          68547939533.7975          685479395.337975          68547939.5337975\n",
            "f_97          72057594037927936        1200959900632132.2         50039995859672.18          137095879067.595          1370958790.67595          137095879.067595\n",
            "f_98         144115188075855872        2401919801264264.5        100079991719344.36           274191758135.19           2741917581.3519           274191758.13519\n",
            "f_99         288230376151711744        4803839602528529.0        200159983438688.72           548383516270.38           5483835162.7038           548383516.27038\n",
            "f_100        576460752303423488        9607679205057058.0        400319966877377.44          1096767032540.76          10967670325.4076          1096767032.54076\n"
          ]
        }
      ]
    },
    {
      "cell_type": "markdown",
      "metadata": {
        "id": "SejrCnScUhGM"
      },
      "source": [
        "## Given a time in minutes which is the largets Fibonacci $f_{n}$ that be \n",
        "\n",
        "\n",
        "calculated recusrively\n",
        "\n",
        "Time in minutes $T$\n",
        "\n",
        "$$ 2^{(n-41)}<T$$ \n",
        "\n",
        "\n",
        "$$ \\lg\\left(2^{(n-41)}\\right) <\\lceil\\lg(T)\\rceil$$\n",
        "\n",
        "$$ n-41 <\\lceil\\lg(T)\\rceil$$ \n",
        "\n",
        "$$ n <\\lceil\\lg(T)\\rceil+41$$ "
      ]
    },
    {
      "cell_type": "code",
      "metadata": {
        "colab": {
          "base_uri": "https://localhost:8080/"
        },
        "id": "rtO7RnQyktKo",
        "outputId": "fa7ec8d9-cf91-45fb-986d-52b847815414"
      },
      "source": [
        "# Max n in 1 year = 60*24*365 minutes\n",
        "\n",
        "import math \n",
        "math.ceil(math.log2(60*24*365))+41"
      ],
      "execution_count": null,
      "outputs": [
        {
          "output_type": "execute_result",
          "data": {
            "text/plain": [
              "61"
            ]
          },
          "metadata": {},
          "execution_count": 8
        }
      ]
    },
    {
      "cell_type": "code",
      "metadata": {
        "colab": {
          "base_uri": "https://localhost:8080/"
        },
        "id": "CpIGWRzCl81s",
        "outputId": "a7fe3047-07bd-4c3f-8664-3833304d56ba"
      },
      "source": [
        "# Max n 100 years 60*24*365*100 minutes\n",
        "\n",
        "import math \n",
        "math.ceil(math.log2(60*24*365*100))+41"
      ],
      "execution_count": null,
      "outputs": [
        {
          "output_type": "execute_result",
          "data": {
            "text/plain": [
              "67"
            ]
          },
          "metadata": {},
          "execution_count": 9
        }
      ]
    },
    {
      "cell_type": "code",
      "metadata": {
        "colab": {
          "base_uri": "https://localhost:8080/"
        },
        "id": "bD9q_MyumGgU",
        "outputId": "316d790a-e602-4b4a-f426-051ce56fd6c3"
      },
      "source": [
        "# Max n 1000 years 60*60*24*360*100 minutes\n",
        "\n",
        "import math \n",
        "math.ceil(math.log2(60*24*365*1000))+41"
      ],
      "execution_count": null,
      "outputs": [
        {
          "output_type": "execute_result",
          "data": {
            "text/plain": [
              "70"
            ]
          },
          "metadata": {},
          "execution_count": 10
        }
      ]
    },
    {
      "cell_type": "code",
      "metadata": {
        "colab": {
          "base_uri": "https://localhost:8080/"
        },
        "id": "3agEZf9SmNSl",
        "outputId": "b2eddf25-14da-4e52-dc3a-7c0ca881a138"
      },
      "source": [
        "# Max f_n im 1.000.000 years 60*24*365*1000000 minutes\n",
        "\n",
        "import math \n",
        "math.ceil(math.log2(60*24*360*1000000))+41"
      ],
      "execution_count": null,
      "outputs": [
        {
          "output_type": "execute_result",
          "data": {
            "text/plain": [
              "80"
            ]
          },
          "metadata": {},
          "execution_count": 11
        }
      ]
    },
    {
      "cell_type": "code",
      "metadata": {
        "colab": {
          "base_uri": "https://localhost:8080/"
        },
        "id": "N7WkDYHedN8H",
        "outputId": "cfd56630-c19f-417d-9b1e-2d47dbccfda6"
      },
      "source": [
        "# Max n in 1000.000.000 years 60*24*365*1000000000 minutes\n",
        "\n",
        "import math \n",
        "math.ceil(math.log2(60*24*360*1000000000))+41"
      ],
      "execution_count": null,
      "outputs": [
        {
          "output_type": "execute_result",
          "data": {
            "text/plain": [
              "90"
            ]
          },
          "metadata": {},
          "execution_count": 12
        }
      ]
    },
    {
      "cell_type": "markdown",
      "metadata": {
        "id": "3dfhpTAXEAjM"
      },
      "source": [
        "## Fibonacci analytical solution\n",
        "\n",
        "The Fibonacci sequence is the solution of the homogenous linear difference equation or  homogenous linear recurrence relation  https://en.wikipedia.org/wiki/Linear_difference_equation\n",
        "\n",
        "$$\n",
        "f_n =  f_{n-1} + f_{n-2} \\ \\ \\ \\ \\ \\ \\ \\text{if}\\ \\ \\ \\ \\ n> 1 \n",
        "$$\n",
        "with intial conditions\n",
        "$$\n",
        "f_0 =0 \\text{ and }f_1 = 1\\\n",
        "$$\n",
        "\n",
        "All linear difference equations have a solution of the from  $\\lambda^n$\n",
        "$$\n",
        "f_n = \\lambda^n\n",
        "$$ \n",
        "so \n",
        "$$ \n",
        "\\lambda^n =  \\lambda^{n-1} + \\lambda^{n-2} \n",
        "$$ \n",
        "divding by $\\lambda^{n-2} $\n",
        "$$ \n",
        "\\lambda^2 -  \\lambda -  1 = 0\n",
        "$$ \n",
        "then\n",
        "$$\n",
        "\\lambda = \\frac{1 \\pm \\sqrt{5}}{2}\n",
        "$$\n",
        "therefore\n",
        "$$\n",
        "f_n =  A \\left( \\frac{1 + \\sqrt{5}}{2} \\right)^n  + B \\left(\\frac{1 - \\sqrt{5}}{2} \\right)^n\n",
        "$$\n",
        "we find $A$ and $B$ with initial conditions\n",
        "$$\n",
        "f_0 = 0  = A \\left( \\frac{1 + \\sqrt{5}}{2} \\right)^0  + B \\left(\\frac{1 - \\sqrt{5}}{2} \\right)^0 = A+B\n",
        "$$\n",
        "so\n",
        "$$\n",
        "B = -A\n",
        "$$\n",
        "and \n",
        "$$\n",
        "f_1 = 1  = A \\left( \\frac{1 + \\sqrt{5}}{2} \\right)^1  + B \\left(\\frac{1 - \\sqrt{5}}{2} \\right)^1 = A \\left( \\frac{1 + \\sqrt{5}}{2} \\right)  - A \\left(\\frac{1 - \\sqrt{5}}{2} \\right) = A \\sqrt{5}\n",
        "$$\n",
        "so \n",
        "$$\n",
        "A =\\frac{1}{\\sqrt{5}}\n",
        "$$\n",
        "then\n",
        "$$\n",
        "f_n =  \\frac{1}{\\sqrt{5}} \\left( \\frac{1 + \\sqrt{5}}{2} \\right)^n  - \\frac{1}{\\sqrt{5}} \\left(\\frac{1 - \\sqrt{5}}{2} \\right)^n\n",
        "$$"
      ]
    },
    {
      "cell_type": "code",
      "metadata": {
        "id": "zJ2XBkns0UzP"
      },
      "source": [
        "import math\n",
        "def fibA(n):\n",
        "  r5= math.sqrt(5)\n",
        "  return  (1/r5)*((1 + r5 )/2)**n - (1/r5)*((1 - r5 )/2)**n"
      ],
      "execution_count": null,
      "outputs": []
    },
    {
      "cell_type": "code",
      "metadata": {
        "colab": {
          "base_uri": "https://localhost:8080/"
        },
        "id": "shhR4n5RHA2j",
        "outputId": "bd61adf5-0302-4354-8ff8-043c6bdb82bf"
      },
      "source": [
        " for n in range(0, 10):\n",
        "   print(\"f_\",n,\" =\",fibA(n),\"round(f_\",n,\",0) =\",round(fibA(n),0))"
      ],
      "execution_count": null,
      "outputs": [
        {
          "output_type": "stream",
          "name": "stdout",
          "text": [
            "f_ 0  = 0.0 round(f_ 0 ,0) = 0.0\n",
            "f_ 1  = 1.0 round(f_ 1 ,0) = 1.0\n",
            "f_ 2  = 0.9999999999999999 round(f_ 2 ,0) = 1.0\n",
            "f_ 3  = 2.0 round(f_ 3 ,0) = 2.0\n",
            "f_ 4  = 3.0000000000000004 round(f_ 4 ,0) = 3.0\n",
            "f_ 5  = 5.000000000000001 round(f_ 5 ,0) = 5.0\n",
            "f_ 6  = 8.000000000000002 round(f_ 6 ,0) = 8.0\n",
            "f_ 7  = 13.000000000000004 round(f_ 7 ,0) = 13.0\n",
            "f_ 8  = 21.000000000000004 round(f_ 8 ,0) = 21.0\n",
            "f_ 9  = 34.000000000000014 round(f_ 9 ,0) = 34.0\n"
          ]
        }
      ]
    },
    {
      "cell_type": "markdown",
      "metadata": {
        "id": "N8tM2LpIm20x"
      },
      "source": [
        "[Fibonacci Spreadsheet](https://github.com/gjhernandezp/algorithms/blob/master/AnalysisOfAlgorithms/fib.csv)\n",
        "\n"
      ]
    },
    {
      "cell_type": "code",
      "source": [
        "# Counting recursive calls\n",
        "\n",
        "# fibR - Fibonacci Recursive O( ( (1+sqrt(5)/2 )^n lg n ) [Relaxed asymptotic bound O(2^n lg n)] \n",
        "def fibR_steps(n):\n",
        "  def fibR(n):\n",
        "      global steps\n",
        "      steps +=1\n",
        "      if n==0 :\n",
        "          return 0\n",
        "      steps +=1    \n",
        "      if n==1 :\n",
        "          return 1\n",
        "          \n",
        "      steps +=1\n",
        "      return fibR(n-1)+fibR(n-2)    # for large n´s  the addition will take lg n stetp because the numebers are very large\n",
        "  global steps\n",
        "  steps = 0\n",
        "  fibR(n)\n",
        "  return steps"
      ],
      "metadata": {
        "id": "lY_14wyfgy3z"
      },
      "execution_count": null,
      "outputs": []
    },
    {
      "cell_type": "markdown",
      "metadata": {
        "id": "kOrB14wvK-fS"
      },
      "source": [
        "## The time complexity of Fibonacci recursive algorithm\n",
        "\n",
        "The time complexity (running time in a RAM - number of elementary instructions) of the Fibonacci recursive algorithm \n",
        "\n",
        "```(phyton)\n",
        "def fibR(n):\n",
        "    if n==0 :\n",
        "        return 0\n",
        "    if n==1 :\n",
        "        return 1\n",
        "    return fibR(n-1)+fibR(n-2)\n",
        "```\n",
        "is\n",
        "$$\n",
        "T(n)=  T(n-1) + T(n-2)  + 3 \\ \\ \\ \\ \\ \\ \\ \\text{if}\\ \\ \\ \\ \\ \\ n> 1 \n",
        "$$\n",
        "\n",
        "Changing the notation $T(n) = t_n$ this is an inhomogenous linear difference equation or recurrence relation https://en.wikipedia.org/wiki/Linear_difference_equation\n",
        "$$\n",
        "t_n =  t_{n-1} + t_{n-2} + 3\\ \\ \\ \\ \\ \\ \\ \\text{if}\\ \\ \\ \\ \\ \\ n> 1 \n",
        "$$\n",
        "with intial conditions\n",
        "$$\n",
        "t_0 =1, t_1 = 2 \\text{ and } t_2 = 6   \\\n",
        "$$\n",
        "\n",
        "All inhomogenous linear difference equations  of the from \n",
        "$$\n",
        "a_n t_n + a_{n-1} t_{n-1} + a_{n-1} t_{n-2} + \\cdots + a_{n-k} t_{n-k} = b^n p(n)\n",
        "$$\n",
        "with $b$ constant, $p(n)$ polynomial of degree $d$ and $k$ initial condition have a the solution of the from\n",
        "$$\n",
        "(a_n t_n + a_{n-1} t_{n-1} + a_{n-1} t_{n-2} + \\cdots + a_{n-k} t_{n-k}) (t-b)^{d+1} = 0\n",
        "$$\n",
        "In our case\n",
        "$$\n",
        "t_n -  t_{n-1} - t_{n-2} = 3 = 1^n 3n^0\n",
        "$$\n",
        "so $ b=1$ and $d=0$, so we have $\\lambda =1$ with multiplicity $1$\n",
        "$$\n",
        "t_n =  A \\left( \\frac{1 + \\sqrt{5}}{2} \\right)^n  + B \\left(\\frac{1 - \\sqrt{5}}{2} \\right)^n + C 1^n\n",
        "$$\n",
        "we find $A$ $B$ and $C$ with initial conditions\n",
        "$$\n",
        "\\begin{array}{lll}\n",
        "A + B + C &=&  1\\\\\n",
        " A \\left( \\frac{1 + \\sqrt{5}}{2} \\right) + B\\left( \\frac{1 - \\sqrt{5}}{2} \\right) + C  &=&  2 \\\\\n",
        "A \\left( \\frac{1 + \\sqrt{5}}{2} \\right)^2 + B\\left( \\frac{1 - \\sqrt{5}}{2} \\right)^2 + C  &=& 6 \n",
        "\\end{array}\n",
        "$$\n",
        "so\n",
        "$$\n",
        "\\begin{array}{lll}\n",
        "A &=&  2 + \\frac{3}{\\sqrt(5)}\\\\\n",
        "B &=&  2 - \\frac{3}{\\sqrt(5)} \\\\\n",
        "C &=&  -3 \n",
        "\\end{array}\n",
        "$$\n",
        "then\n",
        "$$\n",
        "t_n = T(n)=   \\left(2 + \\frac{3}{\\sqrt(5)}\\right) \\left( \\frac{1 + \\sqrt{5}}{2} \\right)^n  + \\left(2 - \\frac{3}{\\sqrt(5)}\\right) \\left(\\frac{1 - \\sqrt{5}}{2} \\right)^n - 3 =  O\\left( \\left(\\frac{1 + \\sqrt{5}}{2} \\right)^n \\right) = O \\left(1.6180339887499^n \\right)\n",
        "$$\n",
        "That is aproximated with a very relaxed asymptotic bound by\n",
        "$$ t_n = T(n) =  O \\left( 2^n \\right)$$\n",
        "\n",
        "Having into account that  for large $n$´s  the addition is not a elementary instructions because the numbers are very large  and  will take $lg\\ n$ stetps, then running time is\n",
        "$$\n",
        "t_n = T(n)=  O \\left(\\left( \\frac{1 + \\sqrt{5}}{2} \\right)^n\\ lg\\ n  \\right) = O \\left( 1.6180339887499^n\\ lg\\ n \\right)\n",
        "$$\n",
        "aproximated with a very relaxed asymptotic bound by\n",
        "$$\n",
        "t_n = T(n)=  O \\left( 2^n\\ lg\\ n \\right)\n",
        "$$"
      ]
    },
    {
      "cell_type": "markdown",
      "metadata": {
        "id": "CyF9fqPxvQkj"
      },
      "source": [
        "## Number of recursive calls in the Fibonacci recursive algorithm\n",
        "\n",
        "The number of recursive calls in the Fibonacci recursive algorithm \n",
        "\n",
        "```(phyton)\n",
        "def fibR(n):\n",
        "    if n==0 :\n",
        "        return 0\n",
        "    if n==1 :\n",
        "        return 1\n",
        "    return fibR(n-1)+fibR(n-2)\n",
        "```\n",
        "is\n",
        "$$\n",
        "T(n)=  T(n-1) + T(n-2)  + 3 \\ \\ \\ \\ \\ \\ \\ \\text{if}\\ \\ \\ \\ \\ \\ n> 1 \n",
        "$$\n",
        "\n",
        "Changing the notation $T(n) = t_n$ this is an inhomogenous linear difference equation or recurrence relation https://en.wikipedia.org/wiki/Linear_difference_equation\n",
        "$$\n",
        "t_n =  t_{n-1} + t_{n-2} + 3\\ \\ \\ \\ \\ \\ \\ \\text{if}\\ \\ \\ \\ \\ \\ n> 1 \n",
        "$$\n",
        "with intial conditions\n",
        "$$\n",
        "t_0 =1, t_1 = 2 \\text{ and } t_2 = 6   \\\n",
        "$$\n",
        "\n",
        "All inhomogenous linear difference equations  of the from \n",
        "$$\n",
        "a_n t_n + a_{n-1} t_{n-1} + a_{n-1} t_{n-2} + \\cdots + a_{n-k} t_{n-k} = b^n p(n)\n",
        "$$\n",
        "with $b$ constant, $p(n)$ polynomial of degree $d$ and $k$ initial condition have a the solution of the from\n",
        "$$\n",
        "(a_n t_n + a_{n-1} t_{n-1} + a_{n-1} t_{n-2} + \\cdots + a_{n-k} t_{n-k}) (t-b)^{d+1} = 0\n",
        "$$\n",
        "In our case\n",
        "$$\n",
        "t_n -  t_{n-1} - t_{n-2} = 1 = 1^n 3 n^0\n",
        "$$\n",
        "so $ b=1$ and $d=0$, so we have $\\lambda =1$ with multiplicity $1$\n",
        "$$\n",
        "t_n =  A \\left( \\frac{1 + \\sqrt{5}}{2} \\right)^n  + B \\left(\\frac{1 - \\sqrt{5}}{2} \\right)^n + C 1^n\n",
        "$$\n",
        "we find $A$ $B$ and $C$ with initial conditions\n",
        "$$\n",
        "\\begin{array}{lll}\n",
        "A + B + C &=&  1\\\\\n",
        " A \\left( \\frac{1 + \\sqrt{5}}{2} \\right) + B\\left( \\frac{1 - \\sqrt{5}}{2} \\right) + C  &=&  2 \\\\\n",
        "A \\left( \\frac{1 + \\sqrt{5}}{2} \\right)^2 + B\\left( \\frac{1 - \\sqrt{5}}{2} \\right)^2 + C  &=& 6 \n",
        "\\end{array}\n",
        "$$\n",
        "so\n",
        "$$\n",
        "\\begin{array}{lll}\n",
        "A &=&  2 + \\frac{3}{\\sqrt(5)}\\\\\n",
        "B &=&  2 - \\frac{51}{\\sqrt(5)} \\\\\n",
        "C &=&  -3 \n",
        "\\end{array}\n",
        "$$\n",
        "then\n",
        "$$\n",
        "t_n = T(n)=   \\left(2 + \\frac{3}{\\sqrt(5)}\\right) \\left( \\frac{1+ \\sqrt{5}}{2} \\right)^n  + \\left(2 - \\frac{3}{\\sqrt(5)}\\right) \\left(\\frac{1 - \\sqrt{5}}{2} \\right)^n - 3 =  O\\left( \\left(\\frac{1 + \\sqrt{5}}{2} \\right)^n \\right) = O \\left(1.6180339887499^n \\right)\n",
        "$$\n",
        "That is aproximated with a very relaxed asymptotic bound by\n",
        "$$ t_n = T(n) =  O \\left( 2^n \\right)$$\n"
      ]
    },
    {
      "cell_type": "code",
      "source": [
        "# Counting recursive calls\n",
        "\n",
        "# fibR - Fibonacci Recursive O( ( (1+sqrt(5)/2 )^n lg n ) [Relaxed asymptotic bound O(2^n lg n)] \n",
        "def fibR_steps(n):\n",
        "  def fibR(n):\n",
        "      global steps\n",
        "      steps +=1\n",
        "      if n==0 :\n",
        "          return 0\n",
        "      steps +=1    \n",
        "      if n==1 :\n",
        "          return 1\n",
        "          \n",
        "      steps +=1\n",
        "      return fibR(n-1)+fibR(n-2)    # for large n´s  the addition will take lg n stetp because the numebers are very large\n",
        "  global steps\n",
        "  steps = 0\n",
        "  fibR(n)\n",
        "  return steps"
      ],
      "metadata": {
        "id": "EtqjPNffhKoE"
      },
      "execution_count": null,
      "outputs": []
    },
    {
      "cell_type": "code",
      "source": [
        "print (fibR_steps(0))\n",
        "print (fibR_steps(1))\n",
        "print (fibR_steps(2))\n",
        "print (fibR_steps(3))\n",
        "print (fibR_steps(4))\n",
        "print (fibR_steps(5))\n",
        "print (fibR_steps(6))\n",
        "print (fibR_steps(7))"
      ],
      "metadata": {
        "colab": {
          "base_uri": "https://localhost:8080/"
        },
        "id": "BVQAG_qJhAij",
        "outputId": "c8590db6-f14d-48b1-e51f-7506fbf0f8ff"
      },
      "execution_count": null,
      "outputs": [
        {
          "output_type": "stream",
          "name": "stdout",
          "text": [
            "1\n",
            "2\n",
            "6\n",
            "11\n",
            "20\n",
            "34\n",
            "57\n",
            "94\n"
          ]
        }
      ]
    },
    {
      "cell_type": "markdown",
      "source": [
        "[Fibonacci Spreadsheet](https://github.com/gjhernandezp/algorithms/blob/master/AnalysisOfAlgorithms/fib.csv)"
      ],
      "metadata": {
        "id": "KZaoV3Ahj6oK"
      }
    },
    {
      "cell_type": "markdown",
      "source": [
        "## Plot of the recursive Fibonacci Algorithm"
      ],
      "metadata": {
        "id": "olqeBiTcZy8h"
      }
    },
    {
      "cell_type": "code",
      "source": [
        "from itertools import product\n",
        "import matplotlib.pyplot as plt\n",
        "import numpy as np \n",
        "import math\n",
        "\n",
        "n = 31\n",
        "fibonacci_time_r = []\n",
        "for i in range(n):\n",
        "  fibonacci_time_r.append(time_recursive_fib(i))\n",
        "\n",
        "for i in range(n,51):\n",
        "  fibonacci_time_r.append(fibonacci_time_r[i-1]*2)\n",
        "\n",
        "valores_n = np.array(range(51))\n",
        "valores_fn = np.array(fibonacci_time_r)\n",
        "plt.plot(valores_n, valores_fn,  label = 'y = t_n', color='red')\n",
        "plt.plot(valores_n, valores_n,  label = 'y = n', color='green')\n",
        "plt.title(\"Recursive Fibonacci Time Execution\")\n",
        "plt.xlabel(\"n\")\n",
        "plt.ylabel(\"t_n\")\n",
        "plt.legend(loc = 'upper left')\n",
        "plt.show()"
      ],
      "metadata": {
        "colab": {
          "base_uri": "https://localhost:8080/",
          "height": 295
        },
        "id": "HaG0T8LlZ9vM",
        "outputId": "0dc9dfda-8943-400f-d82a-dfd2dd3cf4e9"
      },
      "execution_count": null,
      "outputs": [
        {
          "output_type": "display_data",
          "data": {
            "image/png": "[encoded data removed]",
            "text/plain": [
              "<Figure size 432x288 with 1 Axes>"
            ]
          },
          "metadata": {
            "needs_background": "light"
          }
        }
      ]
    },
    {
      "cell_type": "markdown",
      "metadata": {
        "id": "YubnxTUgjqey"
      },
      "source": [
        "# Fibonacci iterartive algoritm (forward) $O(n\\ lgn)$"
      ]
    },
    {
      "cell_type": "code",
      "metadata": {
        "id": "xvN0wMin9HOI"
      },
      "source": [
        "# fibI - Fibonacci Iterartive (forward) O(n lgn)\n",
        "def fibI(n):\n",
        "    if n==0 :\n",
        "        return 0\n",
        "    a, b = 0, 1\n",
        "    for i in range(1, n):\n",
        "        a, b = b, a+b\n",
        "    return b"
      ],
      "execution_count": null,
      "outputs": []
    },
    {
      "cell_type": "code",
      "metadata": {
        "colab": {
          "base_uri": "https://localhost:8080/"
        },
        "id": "_YV_OnXxQieU",
        "outputId": "8b55cc8c-02ba-4409-8318-07fcdbcd549b"
      },
      "source": [
        "fibI(46)"
      ],
      "execution_count": null,
      "outputs": [
        {
          "output_type": "execute_result",
          "data": {
            "text/plain": [
              "1836311903"
            ]
          },
          "metadata": {},
          "execution_count": 21
        }
      ]
    },
    {
      "cell_type": "code",
      "metadata": {
        "colab": {
          "base_uri": "https://localhost:8080/"
        },
        "id": "kew3R2XEu3aL",
        "outputId": "58be8453-bd08-46ef-b6bd-de7ab547bf62"
      },
      "source": [
        "fibI(100)"
      ],
      "execution_count": null,
      "outputs": [
        {
          "output_type": "execute_result",
          "data": {
            "text/plain": [
              "354224848179261915075"
            ]
          },
          "metadata": {},
          "execution_count": 17
        }
      ]
    },
    {
      "cell_type": "code",
      "metadata": {
        "colab": {
          "base_uri": "https://localhost:8080/"
        },
        "id": "tnL26tKbQz5N",
        "outputId": "717aac06-4be7-419c-a1af-ba62e5833de3"
      },
      "source": [
        "fibI(104)"
      ],
      "execution_count": null,
      "outputs": [
        {
          "output_type": "execute_result",
          "data": {
            "text/plain": [
              "2427893228399975082453"
            ]
          },
          "metadata": {},
          "execution_count": 22
        }
      ]
    },
    {
      "cell_type": "code",
      "metadata": {
        "colab": {
          "base_uri": "https://localhost:8080/"
        },
        "id": "-n-jwJhnQ2nj",
        "outputId": "390c206f-5aaf-4388-db58-380ed5f54dbb"
      },
      "source": [
        "fibI(103)"
      ],
      "execution_count": null,
      "outputs": [
        {
          "output_type": "execute_result",
          "data": {
            "text/plain": [
              "1500520536206896083277"
            ]
          },
          "metadata": {},
          "execution_count": 23
        }
      ]
    },
    {
      "cell_type": "code",
      "metadata": {
        "colab": {
          "base_uri": "https://localhost:8080/"
        },
        "id": "hnJ30JXrQ7UD",
        "outputId": "8d02510c-b508-4024-d1b6-c64181319cb7"
      },
      "source": [
        "fibI(105)"
      ],
      "execution_count": null,
      "outputs": [
        {
          "output_type": "execute_result",
          "data": {
            "text/plain": [
              "3928413764606871165730"
            ]
          },
          "metadata": {},
          "execution_count": 24
        }
      ]
    },
    {
      "cell_type": "code",
      "metadata": {
        "colab": {
          "base_uri": "https://localhost:8080/"
        },
        "id": "sPe-LNOmRV3t",
        "outputId": "70a2ff1f-d419-45a8-8ae9-0d0a8efa5ed0"
      },
      "source": [
        "math.log10(fibI(100))"
      ],
      "execution_count": null,
      "outputs": [
        {
          "output_type": "execute_result",
          "data": {
            "text/plain": [
              "20.549279022829865"
            ]
          },
          "metadata": {},
          "execution_count": 31
        }
      ]
    },
    {
      "cell_type": "code",
      "metadata": {
        "colab": {
          "base_uri": "https://localhost:8080/"
        },
        "id": "B_CYmIdM9NiG",
        "outputId": "a1bbb349-0336-4729-8515-7f108e699cc5"
      },
      "source": [
        "from time import process_time\n",
        "n=10\n",
        "t0 = process_time()\n",
        "k = fibI(n)\n",
        "tf =process_time()\n",
        "print(\"n=\",n,\"fib(\",n,\")=\",k,\"time\",tf - t0, \"seconds process time\")"
      ],
      "execution_count": null,
      "outputs": [
        {
          "output_type": "stream",
          "name": "stdout",
          "text": [
            "n= 10 fib( 10 )= 55 time 7.03650000559719e-05 seconds process time\n"
          ]
        }
      ]
    },
    {
      "cell_type": "code",
      "metadata": {
        "colab": {
          "base_uri": "https://localhost:8080/"
        },
        "id": "jZ-Nfx73_tGV",
        "outputId": "4e830045-4125-4def-e67e-ecf791e50e91"
      },
      "source": [
        "from time import process_time\n",
        "n=100\n",
        "t0 = process_time()\n",
        "k = fibI(n)\n",
        "tf =process_time()\n",
        "print(\"n=\",n,\"fib(\",n,\")=\",k,\"time\",tf - t0, \"seconds process time\")"
      ],
      "execution_count": null,
      "outputs": [
        {
          "output_type": "stream",
          "name": "stdout",
          "text": [
            "n= 100 fib( 100 )= 354224848179261915075 time 7.522999999309832e-05 seconds process time\n"
          ]
        }
      ]
    },
    {
      "cell_type": "code",
      "metadata": {
        "colab": {
          "base_uri": "https://localhost:8080/"
        },
        "id": "3jE6xoo2_wgF",
        "outputId": "c13a2435-af03-4d02-a8b1-acd6ec9c553c"
      },
      "source": [
        "from time import process_time\n",
        "n=1000\n",
        "t0 = process_time()\n",
        "k =fibI(n)\n",
        "tf =process_time()\n",
        "print(\"n=\",n,\"fib(\",n,\")=\",k,\"time\",tf - t0, \"seconds process time\")"
      ],
      "execution_count": null,
      "outputs": [
        {
          "output_type": "stream",
          "name": "stdout",
          "text": [
            "n= 1000 fib( 1000 )= 43466557686937456435688527675040625802564660517371780402481729089536555417949051890403879840079255169295922593080322634775209689623239873322471161642996440906533187938298969649928516003704476137795166849228875 time 0.00021019199994043447 seconds process time\n"
          ]
        }
      ]
    },
    {
      "cell_type": "code",
      "metadata": {
        "colab": {
          "base_uri": "https://localhost:8080/"
        },
        "id": "MC3OE5nGT1XP",
        "outputId": "5a9e45b4-9a64-4340-d0ca-da908bd20bef"
      },
      "source": [
        "from time import process_time\n",
        "n=1001\n",
        "t0 = process_time()\n",
        "k =fibI(n)\n",
        "tf =process_time()\n",
        "print(\"n=\",n,\"fib(\",n,\")=\",k,\"time\",tf - t0, \"seconds process time\")"
      ],
      "execution_count": null,
      "outputs": [
        {
          "output_type": "stream",
          "name": "stdout",
          "text": [
            "n= 1001 fib( 1001 )= 70330367711422815821835254877183549770181269836358732742604905087154537118196933579742249494562611733487750449241765991088186363265450223647106012053374121273867339111198139373125598767690091902245245323403501 time 0.0002278100000694394 seconds process time\n"
          ]
        }
      ]
    },
    {
      "cell_type": "code",
      "metadata": {
        "colab": {
          "base_uri": "https://localhost:8080/"
        },
        "id": "0bkmZtweT6M3",
        "outputId": "1aec6a5b-c31b-4fcd-8c4b-587b5e694233"
      },
      "source": [
        "from time import process_time\n",
        "n=1002\n",
        "t0 = process_time()\n",
        "k =fibI(n)\n",
        "tf =process_time()\n",
        "print(\"n=\",n,\"fib(\",n,\")=\",k,\"time\",tf - t0, \"seconds process time\")"
      ],
      "execution_count": null,
      "outputs": [
        {
          "output_type": "stream",
          "name": "stdout",
          "text": [
            "n= 1002 fib( 1002 )= 113796925398360272257523782552224175572745930353730513145086634176691092536145985470146129334641866902783673042322088625863396052888690096969577173696370562180400527049497109023054114771394568040040412172632376 time 0.00024296999981743284 seconds process time\n"
          ]
        }
      ]
    },
    {
      "cell_type": "markdown",
      "source": [
        "## Plot of the iterative Fibonacci algorithm"
      ],
      "metadata": {
        "id": "lHt_CUA2bDpz"
      }
    },
    {
      "cell_type": "code",
      "source": [
        "from itertools import product\n",
        "import matplotlib.pyplot as plt\n",
        "import numpy as np \n",
        "import math\n",
        "\n",
        "n = 1001\n",
        "fibonacci_time_log = []\n",
        "for i in range(n):\n",
        "  t0 = process_time()\n",
        "  k = fibI(i)\n",
        "  tf =process_time()\n",
        "  fibonacci_time_log.append(tf-t0)\n",
        "\n",
        "\n",
        "valores_n = np.array(range(n))\n",
        "valores_fn = np.array(fibonacci_time_log)\n",
        "plt.plot(valores_n, valores_fn,  label = 'y = t_n', color='red')\n",
        "plt.plot(valores_n, valores_n,  label = 'y = n', color='green')\n",
        "plt.title(\"Iterative Fibonacci Time Execution\")\n",
        "plt.xlabel(\"n\")\n",
        "plt.ylabel(\"t_n\")\n",
        "plt.legend(loc = 'upper left')\n",
        "plt.show()"
      ],
      "metadata": {
        "colab": {
          "base_uri": "https://localhost:8080/",
          "height": 295
        },
        "id": "TF2Ex5ZnarWJ",
        "outputId": "1474f270-baec-4471-a8c5-1fb0d703df38"
      },
      "execution_count": null,
      "outputs": [
        {
          "output_type": "display_data",
          "data": {
            "image/png": "[encoded data removed]",
            "text/plain": [
              "<Figure size 432x288 with 1 Axes>"
            ]
          },
          "metadata": {
            "needs_background": "light"
          }
        }
      ]
    },
    {
      "cell_type": "markdown",
      "metadata": {
        "id": "1zWAZdcikD1V"
      },
      "source": [
        "# Fibonacci memoization (dynamic programming)  algoritm  (backward) $O(n\\ lgn)$"
      ]
    },
    {
      "cell_type": "code",
      "metadata": {
        "id": "XDct88yn74Lu"
      },
      "source": [
        "# fibI - Fibonacci Memoization (dynamic programming) (backward) O(n lg n)\n",
        "\n",
        "def fibM(n):\n",
        "    memo = {}\n",
        "    def fib(n):\n",
        "        if n==0 :\n",
        "            return 0\n",
        "        if n==1 :\n",
        "            return 1\n",
        "        if (n-2) not in memo:\n",
        "            memo[n-2] = fib(n-2)\n",
        "        if (n-1) not in memo:\n",
        "            memo[n-1] = fib(n-1)\n",
        "        return memo[n-1] + memo[n-2]\n",
        "    return fib(n)"
      ],
      "execution_count": null,
      "outputs": []
    },
    {
      "cell_type": "code",
      "metadata": {
        "colab": {
          "base_uri": "https://localhost:8080/"
        },
        "id": "IPG-IF2-79_s",
        "outputId": "d6730d2d-4518-4f63-b26c-8e2b8c7afc33"
      },
      "source": [
        "from time import process_time\n",
        "n=10\n",
        "t0 = process_time()\n",
        "k = fibM(n)\n",
        "tf =process_time()\n",
        "print(\"n=\",n,\"fib(\",n,\")=\",k,\"time\",tf - t0, \"seconds process time\")"
      ],
      "execution_count": null,
      "outputs": [
        {
          "output_type": "stream",
          "name": "stdout",
          "text": [
            "n= 10 fib( 10 )= 55 time 8.213499995690654e-05 seconds process time\n"
          ]
        }
      ]
    },
    {
      "cell_type": "code",
      "metadata": {
        "colab": {
          "base_uri": "https://localhost:8080/"
        },
        "id": "NDZ1mxQPAjiY",
        "outputId": "034340ed-b94e-493a-dea9-509c1eeb7883"
      },
      "source": [
        "from time import process_time\n",
        "n=100\n",
        "t0 = process_time()\n",
        "k = fibM(n)\n",
        "tf =process_time()\n",
        "print(\"n=\",n,\"fib(\",n,\")=\",k,\"time\",tf - t0, \"seconds process time\")"
      ],
      "execution_count": null,
      "outputs": [
        {
          "output_type": "stream",
          "name": "stdout",
          "text": [
            "n= 100 fib( 100 )= 354224848179261915075 time 0.00021934599999440252 seconds process time\n"
          ]
        }
      ]
    },
    {
      "cell_type": "code",
      "metadata": {
        "colab": {
          "base_uri": "https://localhost:8080/"
        },
        "id": "xC6tLnv1AlQD",
        "outputId": "95e1f952-705f-4fcf-b73b-4e496a2771de"
      },
      "source": [
        "from time import process_time\n",
        "n=1000\n",
        "t0 = process_time()\n",
        "k = fibM(n)\n",
        "tf =process_time()\n",
        "print(\"n=\",n,\"fib(\",n,\")=\",k,\"time\",tf - t0, \"seconds process time\")"
      ],
      "execution_count": null,
      "outputs": [
        {
          "output_type": "stream",
          "name": "stdout",
          "text": [
            "n= 1000 fib( 1000 )= 43466557686937456435688527675040625802564660517371780402481729089536555417949051890403879840079255169295922593080322634775209689623239873322471161642996440906533187938298969649928516003704476137795166849228875 time 0.0018532809999669553 seconds process time\n"
          ]
        }
      ]
    },
    {
      "cell_type": "code",
      "metadata": {
        "id": "UgCSkL3-0u2Y",
        "colab": {
          "base_uri": "https://localhost:8080/"
        },
        "outputId": "23c02d7a-ea00-447d-edab-8c1a34201633"
      },
      "source": [
        "from time import process_time\n",
        "n=10\n",
        "t0 = process_time()\n",
        "k = fibA(n)\n",
        "tf =process_time()\n",
        "print(\"n=\",n,\"fib(\",n,\")=\",k,\"time\",tf - t0, \"seconds process time\")"
      ],
      "execution_count": null,
      "outputs": [
        {
          "output_type": "stream",
          "name": "stdout",
          "text": [
            "n= 10 fib( 10 )= 55.00000000000002 time 7.449800000358664e-05 seconds process time\n"
          ]
        }
      ]
    },
    {
      "cell_type": "code",
      "metadata": {
        "colab": {
          "base_uri": "https://localhost:8080/"
        },
        "id": "bNJhztlfIcNT",
        "outputId": "017a6187-fa0f-4077-d0bd-d5c149b2f042"
      },
      "source": [
        "from time import process_time\n",
        "n=100\n",
        "t0 = process_time()\n",
        "k = fibA(n)\n",
        "tf =process_time()\n",
        "print(\"n=\",n,\"fib(\",n,\")=\",k,\"time\",tf - t0, \"seconds process time\")"
      ],
      "execution_count": null,
      "outputs": [
        {
          "output_type": "stream",
          "name": "stdout",
          "text": [
            "n= 100 fib( 100 )= 3.542248481792631e+20 time 8.703800017428875e-05 seconds process time\n"
          ]
        }
      ]
    },
    {
      "cell_type": "code",
      "metadata": {
        "colab": {
          "base_uri": "https://localhost:8080/"
        },
        "id": "DWNNTiw4HceL",
        "outputId": "4d1599fe-e342-486e-f3b4-3e22364ad228"
      },
      "source": [
        "from time import process_time\n",
        "n=1000\n",
        "t0 = process_time()\n",
        "k = fibA(n)\n",
        "tf =process_time()\n",
        "print(\"n=\",n,\"fib(\",n,\")=\",k,\"time\",tf - t0, \"seconds process time\")"
      ],
      "execution_count": null,
      "outputs": [
        {
          "output_type": "stream",
          "name": "stdout",
          "text": [
            "n= 1000 fib( 1000 )= 4.3466557686938915e+208 time 7.886100001996965e-05 seconds process time\n"
          ]
        }
      ]
    },
    {
      "cell_type": "markdown",
      "source": [
        "## Plot of memoization algorithm"
      ],
      "metadata": {
        "id": "qSSmSKNIcqi0"
      }
    },
    {
      "cell_type": "code",
      "source": [
        "from itertools import product\n",
        "import matplotlib.pyplot as plt\n",
        "import numpy as np \n",
        "import math\n",
        "\n",
        "n = 1001\n",
        "fibonacci_time_log = []\n",
        "for i in range(n):\n",
        "  t0 = process_time()\n",
        "  k = fibM(i)\n",
        "  tf =process_time()\n",
        "  fibonacci_time_log.append(tf-t0)\n",
        "\n",
        "\n",
        "valores_n = np.array(range(n))\n",
        "valores_fn = np.array(fibonacci_time_log)\n",
        "plt.plot(valores_n, valores_fn,  label = 'y = t_n', color='red')\n",
        "plt.plot(valores_n, valores_n,  label = 'y = n', color='green')\n",
        "plt.title(\"Memoization Fibonacci Time Execution\")\n",
        "plt.xlabel(\"n\")\n",
        "plt.ylabel(\"t_n\")\n",
        "plt.legend(loc = 'upper left')\n",
        "plt.show()"
      ],
      "metadata": {
        "colab": {
          "base_uri": "https://localhost:8080/",
          "height": 295
        },
        "id": "6mYobNd0cpSM",
        "outputId": "a7048234-146b-4635-fe18-45871c1ff184"
      },
      "execution_count": null,
      "outputs": [
        {
          "output_type": "display_data",
          "data": {
            "image/png": "[encoded data removed]",
            "text/plain": [
              "<Figure size 432x288 with 1 Axes>"
            ]
          },
          "metadata": {
            "needs_background": "light"
          }
        }
      ]
    },
    {
      "cell_type": "markdown",
      "metadata": {
        "id": "yxLkXgpNkPrS"
      },
      "source": [
        "# Fibonacci  binary exponentiation matrix algorithm $O(lg^2 n) $"
      ]
    },
    {
      "cell_type": "markdown",
      "metadata": {
        "id": "O9sNNaXwIBWl"
      },
      "source": [
        "The Fibonacci Q-matrix | Lecture 6 | Fibonacci Numbers and the Golden Ratio https://youtu.be/lTHVwsHJrG0\n",
        "\n",
        "Exercise 0.4. Dasgupta S., Papadimitriou C., Vazirani U. , “Algorithms” , McGraw Hill, 2007.\n",
        "\n",
        "Fast matrix solution https://stackoverflow.com/a/40117659\n",
        "\n",
        "This is a superfast solution refer to https://stackoverflow.com/a/23462371/3700852\n",
        "\n",
        "You can read some more about involved math here https://en.wikipedia.org/wiki/Fibonacci_number#Matrix_form\n",
        "\n",
        "Efficient calculation of Fibonacci series https://stackoverflow.com/questions/18172257/efficient-calculation-of-fibonacci-series\n",
        "\n",
        "Python: Compute a Huge Fibonacci Number Modulo m https://stackoverflow.com/questions/40096097/python-compute-a-huge-fibonacci-number-modulo-m#:~:text=Pisano%20periods%20follows%20a%20Fibonacci,in%20finding%20the%20Pisano%20period.\n",
        "\n",
        "Binary Exponentiation https://cp-algorithms.com/algebra/binary-exp.html\n",
        "\n",
        "Exponentiation by squaring https://en.wikipedia.org/wiki/Exponentiation_by_squaring "
      ]
    },
    {
      "cell_type": "code",
      "metadata": {
        "id": "VcNX7LjMICLz"
      },
      "source": [
        "# Fibonacci fast matrix O(lg^2 n) - https://stackoverflow.com/a/40117659  \n",
        "\n",
        "def fib_fast_matrix(n):\n",
        "\n",
        "    if n==0: return 0\n",
        "\n",
        "    # Initialize a matrix [[1,1],[1,0]]    \n",
        "    v1, v2, v3 = 1, 1, 0  \n",
        "    # Perform fast exponentiation of the matrix (quickly raise it to the nth power)\n",
        "    for rec in bin(n)[3:]:\n",
        "        calc = (v2*v2) \n",
        "        v1, v2, v3 = (v1*v1+calc) , ((v1+v3)*v2) , (calc+v3*v3) \n",
        "        if rec == '1': v1, v2, v3 = (v1+v2), v1, v2\n",
        "    return v2;    "
      ],
      "execution_count": null,
      "outputs": []
    },
    {
      "cell_type": "code",
      "metadata": {
        "colab": {
          "base_uri": "https://localhost:8080/"
        },
        "id": "6ONxPvSdI9mr",
        "outputId": "63f5676c-b385-4275-c3e7-61ad2207ff7d"
      },
      "source": [
        " for n in range(0, 20):\n",
        "   print(fib_fast_matrix(n))"
      ],
      "execution_count": null,
      "outputs": [
        {
          "output_type": "stream",
          "name": "stdout",
          "text": [
            "0\n",
            "1\n",
            "1\n",
            "2\n",
            "3\n",
            "5\n",
            "8\n",
            "13\n",
            "21\n",
            "34\n",
            "55\n",
            "89\n",
            "144\n",
            "233\n",
            "377\n",
            "610\n",
            "987\n",
            "1597\n",
            "2584\n",
            "4181\n"
          ]
        }
      ]
    },
    {
      "cell_type": "code",
      "metadata": {
        "colab": {
          "base_uri": "https://localhost:8080/"
        },
        "id": "xij3BFA0H3sM",
        "outputId": "7a711328-cba8-435a-ce3b-270365085705"
      },
      "source": [
        "from time import process_time\n",
        "n=10\n",
        "t0 = process_time()\n",
        "k = fib_fast_matrix(n)\n",
        "tf =process_time()\n",
        "print(\"n=\",n,\"fib(\",n,\")=\",k,\"time\",tf - t0, \"seconds process time\")"
      ],
      "execution_count": null,
      "outputs": [
        {
          "output_type": "stream",
          "name": "stdout",
          "text": [
            "n= 10 fib( 10 )= 55 time 7.490299981327553e-05 seconds process time\n"
          ]
        }
      ]
    },
    {
      "cell_type": "code",
      "metadata": {
        "colab": {
          "base_uri": "https://localhost:8080/"
        },
        "id": "9G6c4AX_KcAS",
        "outputId": "1a7dad57-72b9-4dc6-fe0c-77c68288bcfe"
      },
      "source": [
        "from time import process_time\n",
        "n=100\n",
        "t0 = process_time()\n",
        "k = fib_fast_matrix(n)\n",
        "tf =process_time()\n",
        "print(\"n=\",n,\"fib(\",n,\")=\",k,\"time\",tf - t0, \"seconds process time\")"
      ],
      "execution_count": null,
      "outputs": [
        {
          "output_type": "stream",
          "name": "stdout",
          "text": [
            "n= 100 fib( 100 )= 354224848179261915075 time 7.392700013042486e-05 seconds process time\n"
          ]
        }
      ]
    },
    {
      "cell_type": "code",
      "metadata": {
        "colab": {
          "base_uri": "https://localhost:8080/"
        },
        "id": "rkJvGhmQKe45",
        "outputId": "4fdce26c-82b6-4612-857f-e17a8531be61"
      },
      "source": [
        "from time import process_time\n",
        "n=1000\n",
        "t0 = process_time()\n",
        "k = fib_fast_matrix(n)\n",
        "tf =process_time()\n",
        "print(\"n=\",n,\"fib(\",n,\")=\",k,\"time\",tf - t0, \"seconds process time\")"
      ],
      "execution_count": null,
      "outputs": [
        {
          "output_type": "stream",
          "name": "stdout",
          "text": [
            "n= 1000 fib( 1000 )= 43466557686937456435688527675040625802564660517371780402481729089536555417949051890403879840079255169295922593080322634775209689623239873322471161642996440906533187938298969649928516003704476137795166849228875 time 9.506599985797948e-05 seconds process time\n"
          ]
        }
      ]
    },
    {
      "cell_type": "code",
      "metadata": {
        "colab": {
          "base_uri": "https://localhost:8080/"
        },
        "id": "bOzN2bmAmv76",
        "outputId": "4b2b8449-3215-46df-d067-ba7b835629ed"
      },
      "source": [
        "from time import process_time\n",
        "n=100000\n",
        "m=10\n",
        "t0 = process_time()\n",
        "k = fib_fast_matrix(n)\n",
        "tf =process_time()\n",
        "print(\"n=\",n,\"fib(\",n,\")=\",k,\"time\",tf - t0, \"seconds process time\")"
      ],
      "execution_count": null,
      "outputs": [
        {
          "output_type": "stream",
          "name": "stdout",
          "text": [
            "n= 100000 fib( 100000 )= 2597406934722172416615503402127591541488048538651769658472477070395253454351127368626555677283671674475463758722307443211163839947387509103096569738218830449305228763853133492135302679278956701051276578271635608073050532200243233114383986516137827238124777453778337299916214634050054669860390862750996639366409211890125271960172105060300350586894028558103675117658251368377438684936413457338834365158775425371912410500332195991330062204363035213756525421823998690848556374080179251761629391754963458558616300762819916081109836526352995440694284206571046044903805647136346033000520852277707554446794723709030979019014860432846819857961015951001850608264919234587313399150133919932363102301864172536477136266475080133982431231703431452964181790051187957316766834979901682011849907756686456845066287392485603914047605199550066288826345877189410680370091879365001733011710028310473947456256091444932821374855573864080579813028266640270354294412104919995803131876805899186513425175959911520563155337703996941035518275274919959802257507902037798103089922984996304496255814045517000250299764322193462165366210841876745428298261398234478366581588040819003307382939500082132009374715485131027220817305432264866949630987914714362925554252624043999615326979876807510646819068792118299167964409178271868561702918102212679267401362650499784968843680975254700131004574186406448299485872551744746695651879126916993244564817673322257149314967763345846623830333820239702436859478287641875788572910710133700300094229333597292779191409212804901545976262791057055248158884051779418192905216769576608748815567860128818354354292307397810154785701328438612728620176653953444993001980062953893698550072328665131718113588661353747268458543254898113717660519461693791688442534259478126310388952047956594380715301911253964847112638900713362856910155145342332944128435722099628674611942095166100230974070996553190050815866991144544264788287264284501725332048648319457892039984893823636745618220375097348566847433887249049337031633826571760729778891798913667325190623247118037280173921572390822769228077292456662750538337500692607721059361942126892030256744356537800831830637593334502350256972906515285327194367756015666039916404882563967693079290502951488693413799125174856667074717514938979038653338139534684837808612673755438382110844897653836848318258836339917310455850905663846202501463131183108742907729262215943020429159474030610183981685506695026197376150857176119947587572212987205312060791864980361596092339594104118635168854883911918517906151156275293615849000872150192226511785315089251027528045151238603792184692121533829287136924321527332714157478829590260157195485316444794546750285840236000238344790520345108033282013803880708980734832620122795263360677366987578332625485944906021917368867786241120562109836985019729017715780112040458649153935115783499546100636635745448508241888279067531359950519206222976015376529797308588164873117308237059828489404487403932053592935976454165560795472477862029969232956138971989467942218727360512336559521133108778758228879597580320459608479024506385194174312616377510459921102486879496341706862092908893068525234805692599833377510390101316617812305114571932706629167125446512151746802548190358351688971707570677865618800822034683632101813026232996027599403579997774046244952114531588370357904483293150007246173417355805567832153454341170020258560809166294198637401514569572272836921963229511187762530753402594781448204657460288485500062806934811398276016855584079542162057543557291510641537592939022884356120792643705560062367986544382464373946972471945996555795505838034825597839682776084731530251788951718630722761103630509360074262261717363058613291544024695432904616258691774630578507674937487992329181750163484068813465534370997589353607405172909412697657593295156818624747127636468836551757018353417274662607306510451195762866349922848678780591085118985653555434958761664016447588028633629704046289097067736256584300235314749461233912068632146637087844699210427541569410912246568571204717241133378489816764096924981633421176857150311671040068175303192115415611958042570658693127276213710697472226029655524611053715554532499750843275200199214301910505362996007042963297805103066650638786268157658772683745128976850796366371059380911225428835839194121154773759981301921650952140133306070987313732926518169226845063443954056729812031546392324981793780469103793422169495229100793029949237507299325063050942813902793084134473061411643355614764093104425918481363930542369378976520526456347648318272633371512112030629233889286487949209737847861884868260804647319539200840398308008803869049557419756219293922110825766397681361044490024720948340326796768837621396744075713887292863079821849314343879778088737958896840946143415927131757836511457828935581859902923534388888846587452130838137779443636119762839036894595760120316502279857901545344747352706972851454599861422902737291131463782045516225447535356773622793648545035710208644541208984235038908770223039849380214734809687433336225449150117411751570704561050895274000206380497967960402617818664481248547269630823473377245543390519841308769781276565916764229022948181763075710255793365008152286383634493138089971785087070863632205869018938377766063006066757732427272929247421295265000706646722730009956124191409138984675224955790729398495608750456694217771551107346630456603944136235888443676215273928597072287937355966723924613827468703217858459948257514745406436460997059316120596841560473234396652457231650317792833860590388360417691428732735703986803342604670071717363573091122981306903286137122597937096605775172964528263757434075792282180744352908669606854021718597891166333863858589736209114248432178645039479195424208191626088571069110433994801473013100869848866430721216762473119618190737820766582968280796079482259549036328266578006994856825300536436674822534603705134503603152154296943991866236857638062351209884448741138600171173647632126029961408561925599707566827866778732377419444462275399909291044697716476151118672327238679208133367306181944849396607123345271856520253643621964198782752978813060080313141817069314468221189275784978281094367751540710106350553798003842219045508482239386993296926659221112742698133062300073465628498093636693049446801628553712633412620378491919498600097200836727876650786886306933418995225768314390832484886340318940194161036979843833346608676709431643653538430912157815543512852077720858098902099586449602479491970687230765687109234380719509824814473157813780080639358418756655098501321882852840184981407690738507369535377711880388528935347600930338598691608289335421147722936561907276264603726027239320991187820407067412272258120766729040071924237930330972132364184093956102995971291799828290009539147382437802779051112030954582532888721146170133440385939654047806199333224547317803407340902512130217279595753863158148810392952475410943880555098382627633127606718126171022011356181800775400227516734144169216424973175621363128588281978005788832454534581522434937268133433997710512532081478345067139835038332901313945986481820272322043341930929011907832896569222878337497354301561722829115627329468814853281922100752373626827643152685735493223028018101449649009015529248638338885664893002250974343601200814365153625369199446709711126951966725780061891215440222487564601554632812091945824653557432047644212650790655208208337976071465127508320487165271577472325887275761128357592132553934446289433258105028633583669291828566894736223508250294964065798630809614341696830467595174355313224362664207197608459024263017473392225291248366316428006552870975051997504913009859468071013602336440164400179188610853230764991714372054467823597211760465153200163085336319351589645890681722372812310320271897917951272799656053694032111242846590994556380215461316106267521633805664394318881268199494005537068697621855231858921100963441012933535733918459668197539834284696822889460076352031688922002021931318369757556962061115774305826305535862015637891246031220672933992617378379625150999935403648731423208873977968908908369996292995391977217796533421249291978383751460062054967341662833487341011097770535898066498136011395571584328308713940582535274056081011503907941688079197212933148303072638678631411038443128215994936824342998188719768637604496342597524256886188688978980888315865076262604856465004322896856149255063968811404400429503894245872382233543101078691517328333604779262727765686076177705616874050257743749983775830143856135427273838589774133526949165483929721519554793578923866762502745370104660909382449626626935321303744538892479216161188889702077910448563199514826630802879549546453583866307344423753319712279158861707289652090149848305435983200771326653407290662016775706409690183771201306823245333477966660525325490873601961480378241566071271650383582257289215708209369510995890132859490724306183325755201208090007175022022949742801823445413711916298449914722254196594682221468260644961839254249670903104007581488857971672246322887016438403908463856731164308169537326790303114583680575021119639905615169154708510459700542098571797318015564741406172334145847111268547929892443001391468289103679179216978616582489007322033591376706527676521307143985302760988478056216994659655461379174985659739227379416726495377801992098355427866179123126699374730777730569324430166839333011554515542656864937492128687049121754245967831132969248492466744261999033972825674873460201150442228780466124320183016108232183908654771042398228531316559685688005226571474428823317539456543881928624432662503345388199590085105211383124491861802624432195540433985722841341254409411771722156867086291742124053110620522842986199273629406208834754853645128123279609097213953775360023076765694208219943034648783348544492713539450224591334374664937701655605763384697062918725745426505879414630176639760457474311081556747091652708748125267159913793240527304613693961169892589808311906322510777928562071999459487700611801002296132304588294558440952496611158342804908643860880796440557763691857743754025896855927252514563404385217825890599553954627451385454452916761042969267970893580056234501918571489030418495767400819359973218711957496357095967825171096264752068890806407651445893132870767454169607107931692704285168093413311046353506242209810363216771910420786162184213763938194625697286781413636389620123976910465418956806197323148414224550071617215851321302030684176087215892702098879108938081045903397276547326416916845445627600759561367103584575649094430692452532085003091068783157561519847567569191284784654692558665111557913461272425336083635131342183905177154511228464455136016013513228948543271504760839307556100908786096663870612278690274831819331606701484957163004705262228238406266818448788374548131994380387613830128859885264201992286188208499588640888521352501457615396482647451025902530743172956899636499615707551855837165935367125448515089362904567736630035562457374779100987992499146967224041481601289530944015488942613783140087804311431741858071826185149051138744831358439067228949408258286021650288927228387426432786168690381960530155894459451808735197246008221529343980828254126128257157209350985382800738560472910941184006084485235377833503306861977724501886364070344973366473100602018128792886991861824418453968994777259482169137133647470453172979809245844361129618997595696240971845564020511432589591844724920942930301651488713079802102379065536525154780298059407529440513145807551537794861635879901158192019808879694967187448224156836463534326160242632934761634458163890163805123894184523973421841496889262398489648642093409816681494771155177009562669029850101513537599801272501241971119871526593747484778935488777815192931171431167444773882941064615028751327709474504763922874890662989841540259350834035142035136168819248238998027706666916342133424312054507359388616687691188185776118135771332483965209882085982391298606386822804754362408956522921410859852037330544625953261340234864689275060526893755148403298542086991221052597005628576707702567695300978970046408920009852106980295419699802138053295798159478289934443245491565327845223840551240445208226435420656313310702940722371552770504263482073984454889589248861397657079145414427653584572951329719091947694411910966797474262675590953832039169673494261360032263077428684105040061351052194413778158095005714526846009810352109249040027958050736436961021241137739717164869525493114805040126568351268829598413983222676377804500626507241731757395219796890754825199329259649801627068665658030178877405615167159731927320479376247375505855052839660294566992522173600874081212014209071041937598571721431338017425141582491824710905084715977249417049320254165239323233258851588893337097136310892571531417761978326033750109026284066415801371359356529278088456305951770081443994114674291850360748852366654744869928083230516815711602911836374147958492100860528981469547750812338896943152861021202736747049903930417035171342126923486700566627506229058636911882228903170510305406882096970875545329369434063981297696478031825451642178347347716471058423238594580183052756213910186997604305844068665712346869679456044155742100039179758348979935882751881524675930878928159243492197545387668305684668420775409821781247053354523194797398953320175988640281058825557698004397120538312459428957377696001857497335249965013509368925958021863811725906506436882127156815751021712900765992750370228283963962915973251173418586721023497317765969454283625519371556009143680329311962842546628403142444370648432390374906410811300792848955767243481200090309888457270907750873638873299642555050473812528975962934822878917619920725138309388288292510416837622758204081918933603653875284116785703720989718832986921927816629675844580174911809119663048187434155067790863948831489241504300476704527971283482211522202837062857314244107823792513645086677566622804977211397140621664116324756784216612961477109018826094677377686406176721484293894976671380122788941309026553511096118347012565197540807095384060916863936906673786627209429434264260402902158317345003727462588992622049877121178405563348492490326003508569099382392777297498413565614830788262363322368380709822346012274241379036473451735925215754757160934270935192901723954921426490691115271523338109124042812102893738488167358953934508930697715522989199698903885883275409044300321986834003470271220020159699371690650330547577095398748580670024491045504890061727189168031394528036165633941571334637222550477547460756055024108764382121688848916940371258901948490685379722244562009483819491532724502276218589169507405794983759821006604481996519360110261576947176202571702048684914616894068404140833587562118319210838005632144562018941505945780025318747471911604840677997765414830622179069330853875129298983009580277554145435058768984944179136535891620098725222049055183554603706533183176716110738009786625247488691476077664470147193074476302411660335671765564874440577990531996271632972009109449249216456030618827772947750764777446452586328919159107444252320082918209518021083700353881330983215894608680127954224752071924134648334963915094813097541433244209299930751481077919002346128122330161799429930618800533414550633932139339646861616416955220216447995417243171165744471364197733204899365074767844149929548073025856442942381787641506492878361767978677158510784235702640213388018875601989234056868423215585628508645525258377010620532224244987990625263484010774322488172558602233302076399933854152015343847725442917895130637050320444917797752370871958277976799686113626532291118629631164685159934660693460557545956063155830033697634000276685151293843638886090828376141157732003527565158745906567025439437931104838571313294490604926582363108949535090082673154497226396648088618041573977888472892174618974189721700770009862449653759012727015227634510874906948012210684952063002519011655963580552429180205586904259685261047412834518466736938580027700252965356366721619883672428226933950325930390994583168665542234654857020875504617520521853721567282679903418135520602999895366470106557900532129541336924472492212436324523042895188461779122338069674233980694887270587503389228395095135209123109258159006960395156367736067109050566299603571876423247920752836160805597697778756476767210521222327184821484446631261487584226092608875764331731023263768864822594691211032367737558122133470556805958008310127481673962019583598023967414489867276845869819376783757167936723213081586191045995058970991064686919463448038574143829629547131372173669836184558144505748676124322451519943362182916191468026091121793001864788050061351603144350076189213441602488091741051232290357179205497927970924502479940842696158818442616163780044759478212240873204124421169199805572649118243661921835714762891425805771871743688000324113008704819373962295017143090098476927237498875938639942530595331607891618810863505982444578942799346514915952884869757488025823353571677864826828051140885429732788197765736966005727700162592404301688659946862983717270595809808730901820120931003430058796552694788049809205484305467611034654748067290674399763612592434637719995843862812391985470202414880076880818848087892391591369463293113276849329777201646641727587259122354784480813433328050087758855264686119576962172239308693795757165821852416204341972383989932734803429262340722338155102209101262949249742423271698842023297303260161790575673111235465890298298313115123607606773968998153812286999642014609852579793691246016346088762321286205634215901479188632194659637483482564291616278532948239313229440231043277288768139550213348266388687453259281587854503890991561949632478855035090289390973718988003999026132015872678637873095678109625311008054489418857983565902063680699643165033912029944327726770869305240718416592070096139286401966725750087012218149733133695809600369751764951350040285926249203398111014953227533621844500744331562434532484217986108346261345897591234839970751854223281677187215956827243245910829019886390369784542622566912542747056097567984857136623679023878478161201477982939080513150258174523773529510165296934562786122241150783587755373348372764439838082000667214740034466322776918936967612878983488942094688102308427036452854504966759697318836044496702853190637396916357980928865719935397723495486787180416401415281489443785036291071517805285857583987711145474240156416477194116391354935466755593592608849200546384685403028080936417250583653368093407225310820844723570226809826951426162451204040711501448747856199922814664565893938488028643822313849852328452360667045805113679663751039248163336173274547275775636810977344539275827560597425160705468689657794530521602315939865780974801515414987097778078705357058008472376892422189750312758527140173117621279898744958406199843913365680297721208751934988504499713914285158032324823021340630312586072624541637765234505522051086318285359658520708173392709566445011404055106579055037417780393351658360904543047721422281816832539613634982525215232257690920254216409657452618066051777901592902884240599998882753691957540116954696152270401280857579766154722192925655963991820948894642657512288766330302133746367449217449351637104725732980832812726468187759356584218383594702792013663907689741738962252575782663990809792647011407580367850599381887184560094695833270775126181282015391041773950918244137561999937819240362469558235924171478702779448443108751901807414110290370706052085162975798361754251041642244867577350756338018895379263183389855955956527857227926155524494739363665533904528656215464288343162282921123290451842212532888101415884061619939195042230059898349966569463580186816717074818823215848647734386780911564660755175385552224428524049468033692299989300783900020690121517740696428573930196910500988278523053797637940257968953295112436166778910585557213381789089945453947915927374958600268237844486872037243488834616856290097850532497036933361942439802882364323553808208003875741710969289725499878566253048867033095150518452126944989251596392079421452606508516052325614861938282489838000815085351564642761700832096483117944401971780149213345335903336672376719229722069970766055482452247416927774637522135201716231722137632445699154022395494158227418930589911746931773776518735850032318014432883916374243795854695691221774098948611515564046609565094538115520921863711518684562543275047870530006998423140180169421109105925493596116719457630962328831271268328501760321771680400249657674186927113215573270049935709942324416387089242427584407651215572676037924765341808984312676941110313165951429479377670698881249643421933287404390485538222160837088907598277390184204138197811025854537088586701450623578513960109987476052535450100439353062072439709976445146790993381448994644609780957731953604938734950026860564555693224229691815630293922487606470873431166384205442489628760213650246991893040112513103835085621908060270866604873585849001704200923929789193938125116798421788115209259130435572321635660895603514383883939018953166274355609970015699780289236362349895374653428746875 time 0.0072996369999600574 seconds process time\n"
          ]
        }
      ]
    },
    {
      "cell_type": "markdown",
      "metadata": {
        "id": "AJfON0LwHkTF"
      },
      "source": [
        "## Fibonacci $\\mod m$ and Pisano periods\n",
        "\n",
        "To know about Fibonacci $\\mod m$ and Pisano periods, I recommend that you watch this video: Fibonacci Mystery - Numberphile https://www.youtube.com/watch?v=Nu-lW-Ifyec\n",
        "\n"
      ]
    },
    {
      "cell_type": "markdown",
      "metadata": {
        "id": "gvFXy7DaHwcR"
      },
      "source": [
        "### Pisano period https://en.wikipedia.org/wiki/Pisano_period\n",
        "\n",
        "In number theory, the nth Pisano period, written π(n), is the period with which the sequence of Fibonacci numbers taken modulo n repeats. Pisano periods are named after Leonardo Pisano, better known as Fibonacci. The existence of periodic functions in Fibonacci numbers was noted by Joseph Louis Lagrange in 1774."
      ]
    },
    {
      "cell_type": "markdown",
      "metadata": {
        "id": "7I8lHMWDIKpZ"
      },
      "source": [
        "### Pisano period https://mathworld.wolfram.com/PisanoPeriod.html\n",
        "The sequence of Fibonacci numbers $\\{F_n\\}$ is periodic modulo any modulus $m$ (Wall 1960), and the period ($\\mod m$) is the known as the Pisano period $\\pi(m)$ (Wrench 1969). For m=1, 2, ..., the values of $\\pi(m)$ are $1, 3, 8, 6, 20, 24, 16, 12, 24, 60, 10, ...$ (OEIS A001175).\n",
        "\n",
        "Since $\\pi(10)=60$, the last digit of $F_n$ repeats with period $60$, as first noted by Lagrange in 1774 (Livio 2002, p. 105). The last two digits repeat with a period of $300$, and the last three with a period of $1500$. In 1963, Geller found that the last four digits have a period of 15000 and the last five a period of $150000$. Jarden subsequently showed that for $d>=3$, the last d digits have a period of $15·10^{(d-1)}$ (Livio 2002, pp. 105-106). The sequence of Pisano periods for $n=1, 10, 100, 1000, ...$ are therefore $60, 300, 1500, 15000, 150000, 1500000, ...$ (OEIS A096363).\n"
      ]
    },
    {
      "cell_type": "markdown",
      "metadata": {
        "id": "hgcrw9veJSx9"
      },
      "source": [
        "Python: Compute a Huge Fibonacci Number Modulo m https://stackoverflow.com/questions/40096097/python-compute-a-huge-fibonacci-number-modulo-m#:~:text=Pisano%20periods%20follows%20a%20Fibonacci,in%20finding%20the%20Pisano%20period.\n",
        "\n",
        "https://stackoverflow.com/a/51874771\n",
        "\n",
        "In the below code we are using two concepts of Fibonacci series:\n",
        "\n",
        "1. Pisano periods follows a Fibonacci sequence and hence each repetition(pattern) begins with 0 and 1 appearing consecutively one after the other.\n",
        "\n",
        "2. fib(n) divides fib(m) only when n divides m which means if fib(4)%3==0,then fib(4+4)%3==0,fib(4+4+4)%3==0 and so on.This helps us in finding the Pisano period.\n",
        "\n"
      ]
    },
    {
      "cell_type": "markdown",
      "metadata": {
        "id": "ejGRtbnblTcy"
      },
      "source": [
        "## Fibonacci $\\mod m$ binary exponentiation matrix algorithm   $O(lg\\ n)$\n",
        "\n"
      ]
    },
    {
      "cell_type": "code",
      "metadata": {
        "id": "Ut-xhYfYB7pV"
      },
      "source": [
        "# Fibonacci module fast matrix O(lg n) - https://stackoverflow.com/a/40117659  \n",
        "\n",
        "def Huge_Fib_Mod(n,m):\n",
        "\n",
        "    if n==0: return 0\n",
        "\n",
        "    # Initialize a matrix [[1,1],[1,0]]    \n",
        "    v1, v2, v3 = 1, 1, 0  \n",
        "    # Perform fast exponentiation of the matrix (quickly raise it to the nth power)\n",
        "    for rec in bin(n)[3:]:\n",
        "        calc = (v2*v2) % m\n",
        "        v1, v2, v3 = (v1*v1+calc)% m , ((v1+v3)*v2) % m, (calc+v3*v3) % m\n",
        "        if rec == '1': v1, v2, v3 = (v1+v2)% m, v1, v2\n",
        "    return v2;  "
      ],
      "execution_count": null,
      "outputs": []
    },
    {
      "cell_type": "code",
      "metadata": {
        "colab": {
          "base_uri": "https://localhost:8080/"
        },
        "id": "kkH0yEV_npaL",
        "outputId": "45e8a21a-2a32-4148-a53d-defff2801793"
      },
      "source": [
        "m=10\n",
        "for n in range(0,65):\n",
        "   print(n,\" \",Huge_Fib_Mod(n,m))"
      ],
      "execution_count": null,
      "outputs": [
        {
          "output_type": "stream",
          "name": "stdout",
          "text": [
            "0   0\n",
            "1   1\n",
            "2   1\n",
            "3   2\n",
            "4   3\n",
            "5   5\n",
            "6   8\n",
            "7   3\n",
            "8   1\n",
            "9   4\n",
            "10   5\n",
            "11   9\n",
            "12   4\n",
            "13   3\n",
            "14   7\n",
            "15   0\n",
            "16   7\n",
            "17   7\n",
            "18   4\n",
            "19   1\n",
            "20   5\n",
            "21   6\n",
            "22   1\n",
            "23   7\n",
            "24   8\n",
            "25   5\n",
            "26   3\n",
            "27   8\n",
            "28   1\n",
            "29   9\n",
            "30   0\n",
            "31   9\n",
            "32   9\n",
            "33   8\n",
            "34   7\n",
            "35   5\n",
            "36   2\n",
            "37   7\n",
            "38   9\n",
            "39   6\n",
            "40   5\n",
            "41   1\n",
            "42   6\n",
            "43   7\n",
            "44   3\n",
            "45   0\n",
            "46   3\n",
            "47   3\n",
            "48   6\n",
            "49   9\n",
            "50   5\n",
            "51   4\n",
            "52   9\n",
            "53   3\n",
            "54   2\n",
            "55   5\n",
            "56   7\n",
            "57   2\n",
            "58   9\n",
            "59   1\n",
            "60   0\n",
            "61   1\n",
            "62   1\n",
            "63   2\n",
            "64   3\n"
          ]
        }
      ]
    },
    {
      "cell_type": "code",
      "metadata": {
        "colab": {
          "base_uri": "https://localhost:8080/"
        },
        "id": "jGCOk0ZmMhz3",
        "outputId": "9bdcef7c-2c8e-4430-ddfc-072e115d1603"
      },
      "source": [
        "import sys\n",
        "\n",
        "def fibmod(n,m): \n",
        "    if n <= 1:\n",
        "        return n\n",
        "\n",
        "    previous = 0\n",
        "    current  = 1\n",
        "\n",
        "    for _ in range(n - 1):\n",
        "        previous, current = current, (previous + current) % m\n",
        "    \n",
        "    return current\n",
        "\n",
        "# Pisano periods https://stackoverflow.com/a/51874771\n",
        "# 1. Pisano periods follows  follows a Fibonacci sequence and hence each repetition(pattern) \n",
        "#    begins with 0 and 1 appearing consecutively one after the other.\n",
        "# 2. fib(n) divides fib(m) only when n divides m which means if fib(4)%3==0,\n",
        "#    then fib(4+4)%3==0,fib(4+4+4)%3==0 and so on.This helps us in finding the Pisano period.\n",
        "def pisano_period(m):\n",
        "    i=2\n",
        "    while(fibmod(i,m)!=0):\n",
        "        i+=1\n",
        "    if(fibmod(i+1,m)!=1):\n",
        "        while(fibmod(i+1,m)!=1):\n",
        "            i+=i\n",
        "    return i\n",
        "\n",
        "def get_fibonacci_huge_pissano(n, m):\n",
        "   \n",
        "    n = n % pisano_period(m) \n",
        "\n",
        "    return fibmod(n,m)\n",
        "\n",
        "if __name__ == '__main__':\n",
        "    n, m = map(int, input().split())\n",
        "    print(get_fibonacci_huge_pissano(n, m))"
      ],
      "execution_count": null,
      "outputs": [
        {
          "output_type": "stream",
          "name": "stdout",
          "text": [
            "239 1000\n",
            "161\n"
          ]
        }
      ]
    },
    {
      "cell_type": "code",
      "metadata": {
        "colab": {
          "base_uri": "https://localhost:8080/"
        },
        "id": "x3VuzoHbOlQJ",
        "outputId": "2efc1e43-9b63-4d5b-e688-453a64166cde"
      },
      "source": [
        "if __name__ == '__main__':\n",
        "    n, m = map(int, input().split())\n",
        "    print(get_fibonacci_huge_pissano(n, m))"
      ],
      "execution_count": null,
      "outputs": [
        {
          "output_type": "stream",
          "name": "stdout",
          "text": [
            "2816213588 239\n",
            "151\n"
          ]
        }
      ]
    },
    {
      "cell_type": "code",
      "metadata": {
        "colab": {
          "base_uri": "https://localhost:8080/"
        },
        "id": "ezy79R8OOxUw",
        "outputId": "c309f46e-3b15-415e-f637-538ead664104"
      },
      "source": [
        "if __name__ == '__main__':\n",
        "    n, m = map(int, input().split())\n",
        "    print(get_fibonacci_huge_pissano(n, m))"
      ],
      "execution_count": null,
      "outputs": [
        {
          "output_type": "stream",
          "name": "stdout",
          "text": [
            "10 4\n",
            "3\n"
          ]
        }
      ]
    },
    {
      "cell_type": "code",
      "metadata": {
        "colab": {
          "base_uri": "https://localhost:8080/"
        },
        "id": "rXvoqT0XH_oo",
        "outputId": "055dc903-ff84-4eaa-bda6-093e6fc901c8"
      },
      "source": [
        "import sys\n",
        "\n",
        "# Fibonacci module fast matrix O(lg n) - https://stackoverflow.com/a/40117659 \n",
        "def Huge_Fib_Mod(n,m):\n",
        "\n",
        "    if n==0: return 0\n",
        "\n",
        "    # Initialize a matrix [[1,1],[1,0]]    \n",
        "    v1, v2, v3 = 1, 1, 0  \n",
        "    # Perform fast exponentiation of the matrix (quickly raise it to the nth power)\n",
        "    for rec in bin(n)[3:]:\n",
        "        calc = (v2*v2) % m\n",
        "        v1, v2, v3 = (v1*v1+calc)% m , ((v1+v3)*v2) % m, (calc+v3*v3) % m\n",
        "        if rec == '1': v1, v2, v3 = (v1+v2)% m, v1, v2\n",
        "    return v2;  \n",
        "\n",
        "# Pisano periods https://stackoverflow.com/a/51874771\n",
        "# 1. Pisano periods follows  follows a Fibonacci sequence and hence each repetition(pattern) \n",
        "#    begins with 0 and 1 appearing consecutively one after the other.\n",
        "# 2. fib(n) divides fib(m) only when n divides m which means if fib(4)%3==0,\n",
        "#    then fib(4+4)%3==0,fib(4+4+4)%3==0 and so on.This helps us in finding the Pisano period.\n",
        "def pisano_period(m):\n",
        "    i=2\n",
        "    while(Huge_Fib_Mod(i,m)!=0):\n",
        "        i+=1\n",
        "    \n",
        "    if(Huge_Fib_Mod(i+1,m)!=1):\n",
        "        while(Huge_Fib_Mod(i+1,m)!=1):\n",
        "            i+=i\n",
        "    return i\n",
        "\n",
        "def get_fibonacci_huge_pissano(n, m):\n",
        "\n",
        "    n = n % pisano_period(m) \n",
        "\n",
        "    return Huge_Fib_Mod(n,m)\n",
        "\n",
        "if __name__ == '__main__':\n",
        "    n, m = map(int, input().split())\n",
        "    print(get_fibonacci_huge_pissano(n, m))"
      ],
      "execution_count": null,
      "outputs": [
        {
          "output_type": "stream",
          "name": "stdout",
          "text": [
            "239 1000\n",
            "161\n"
          ]
        }
      ]
    },
    {
      "cell_type": "code",
      "metadata": {
        "id": "zg0YQZXRfBO-"
      },
      "source": [
        ""
      ],
      "execution_count": null,
      "outputs": []
    },
    {
      "cell_type": "code",
      "metadata": {
        "colab": {
          "base_uri": "https://localhost:8080/"
        },
        "id": "q7rb88N0O8On",
        "outputId": "1bf93ce2-524e-473c-f1ec-80587a3f5672"
      },
      "source": [
        "if __name__ == '__main__':\n",
        "    n, m = map(int, input().split())\n",
        "    print(get_fibonacci_huge_pissano(n, m))"
      ],
      "execution_count": null,
      "outputs": [
        {
          "output_type": "stream",
          "name": "stdout",
          "text": [
            "2816213588 239\n",
            "151\n"
          ]
        }
      ]
    },
    {
      "cell_type": "code",
      "metadata": {
        "colab": {
          "base_uri": "https://localhost:8080/"
        },
        "id": "miEkyv-sO_9f",
        "outputId": "be0eb573-a7c8-4ae7-a49f-4e5f7db9055a"
      },
      "source": [
        "if __name__ == '__main__':\n",
        "    n, m = map(int, input().split())\n",
        "    print(get_fibonacci_huge_pissano(n, m))"
      ],
      "execution_count": null,
      "outputs": [
        {
          "output_type": "stream",
          "name": "stdout",
          "text": [
            "10 4\n",
            "3\n"
          ]
        }
      ]
    },
    {
      "cell_type": "markdown",
      "metadata": {
        "id": "9LV_80AxxfeB"
      },
      "source": [
        "## Sum of Fibonacci numbers \n",
        "Sum of Fibonacci numbers | Lecture 9 | Fibonacci Numbers and the Golden Ratio https://youtu.be/Cspq_vvScV8"
      ]
    },
    {
      "cell_type": "markdown",
      "metadata": {
        "id": "aRzEAe_0zUoQ"
      },
      "source": [
        "## Sum of Fibonacci numbers squared \n",
        "Sum of Fibonacci numbers squared | Lecture 10 | Fibonacci Numbers and the Golden Ratio https://youtu.be/ruIwND9ytpE"
      ]
    },
    {
      "cell_type": "markdown",
      "metadata": {
        "id": "Cc6SWWbrRdMU"
      },
      "source": [
        "# Principle of invariance\n",
        "\n",
        "$$T_{RAM}(n) = \\alpha t_{A}(n) = \\beta t_{B}(n) = \\xi t_{C}(n)$$\n",
        "\n",
        "$T_{RAM}(n)$ computational steps in RAM\n",
        "\n",
        "$t_{A}(n)$ running time in $A$\n",
        "\n",
        "$t_{B}(n)$ running time in $B$\n",
        "\n",
        "$t_{C}(n)$ running time in $C$\n",
        "\n",
        "\n",
        "$ T_{RAM}(n)$  is the number of computational steps (simple/elementary RAM oprations) of the algorithm for the worst case input of size $n$.\n",
        "\n",
        "$t_{A}(n), t_{B}$ and $t_{C}$ is the execution time of the algorithm in the corresponding platfrom (processor + memory architecture , operating system, programming language, compiler) for the worst case input of size $n$\n"
      ]
    }
  ]
}