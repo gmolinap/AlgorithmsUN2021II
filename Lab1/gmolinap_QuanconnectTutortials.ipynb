{
  "nbformat": 4,
  "nbformat_minor": 0,
  "metadata": {
    "colab": {
      "name": "gmolinap_QuanconnectTutortials.ipynb",
      "provenance": [],
      "collapsed_sections": []
    },
    "kernelspec": {
      "name": "python3",
      "display_name": "Python 3"
    },
    "language_info": {
      "name": "python"
    }
  },
  "cells": [
    {
      "cell_type": "markdown",
      "metadata": {
        "id": "wG6qzKdCieMV"
      },
      "source": [
        "\n",
        "*   ## **01 Data Types and Data Structures**\n",
        "\n"
      ]
    },
    {
      "cell_type": "markdown",
      "metadata": {
        "id": "Xq-mCHmGAoc7"
      },
      "source": [
        "\n",
        "\n",
        "*  #  Tipos de variables\n"
      ]
    },
    {
      "cell_type": "code",
      "metadata": {
        "id": "b3FEtMXJUVPs",
        "colab": {
          "base_uri": "https://localhost:8080/"
        },
        "outputId": "54c5c234-a633-410a-b289-538fe17623ac"
      },
      "source": [
        "#1ero\n",
        "string1 = 'Bienvenido a'\n",
        "string2 = \"QuantConnect\"\n",
        "print(string1 + ' ' + string2)"
      ],
      "execution_count": null,
      "outputs": [
        {
          "output_type": "stream",
          "name": "stdout",
          "text": [
            "Bienvenido a QuantConnect\n"
          ]
        }
      ]
    },
    {
      "cell_type": "code",
      "metadata": {
        "colab": {
          "base_uri": "https://localhost:8080/"
        },
        "id": "VxlH57lr6rBw",
        "outputId": "47f24b25-85c4-43cc-be3f-b870b9cd40f5"
      },
      "source": [
        "#2do\n",
        "int1 = 20\n",
        "print(int1)\n",
        "print(type(int1))"
      ],
      "execution_count": null,
      "outputs": [
        {
          "output_type": "stream",
          "name": "stdout",
          "text": [
            "20\n",
            "<class 'int'>\n"
          ]
        }
      ]
    },
    {
      "cell_type": "code",
      "metadata": {
        "colab": {
          "base_uri": "https://localhost:8080/"
        },
        "id": "BIuRwXqv7qtg",
        "outputId": "6ff27d5f-0f66-4ed0-a177-8e0a348966b6"
      },
      "source": [
        "#3ero\n",
        "string1 = \"5\"\n",
        "print(type(string1))\n",
        "int1 = int(string1)\n",
        "print(type(int1))"
      ],
      "execution_count": null,
      "outputs": [
        {
          "output_type": "stream",
          "name": "stdout",
          "text": [
            "<class 'str'>\n",
            "<class 'int'>\n"
          ]
        }
      ]
    },
    {
      "cell_type": "code",
      "metadata": {
        "colab": {
          "base_uri": "https://localhost:8080/"
        },
        "id": "rU99YI6p8OyY",
        "outputId": "c5604780-5ff4-4a3c-fca1-fc63ee4ca981"
      },
      "source": [
        "#4to\n",
        "string1 = \"5\"\n",
        "float1 = float(string1)\n",
        "print(type(float1))"
      ],
      "execution_count": null,
      "outputs": [
        {
          "output_type": "stream",
          "name": "stdout",
          "text": [
            "<class 'float'>\n"
          ]
        }
      ]
    },
    {
      "cell_type": "code",
      "metadata": {
        "colab": {
          "base_uri": "https://localhost:8080/"
        },
        "id": "UixfyRit86Ou",
        "outputId": "d7f65ed5-6d17-4a92-a3ce-2d09b1cfa4bb"
      },
      "source": [
        "#5to\n",
        "bool1 = False\n",
        "print(bool1)\n",
        "print(type(bool1))"
      ],
      "execution_count": null,
      "outputs": [
        {
          "output_type": "stream",
          "name": "stdout",
          "text": [
            "False\n",
            "<class 'bool'>\n"
          ]
        }
      ]
    },
    {
      "cell_type": "code",
      "metadata": {
        "colab": {
          "base_uri": "https://localhost:8080/"
        },
        "id": "4p_B46DB-rlu",
        "outputId": "300b7aab-395f-4ded-d8ba-ba5ee25e73d0"
      },
      "source": [
        "#6to\n",
        "print(\"Suma\", 2+3)\n",
        "print(\"Resta\", 57-23)\n",
        "print(\"Multiplicación\", 0.8*100)\n",
        "print(\"División\", (75/10))\n",
        "print(\"Potencia\", 5**5)"
      ],
      "execution_count": null,
      "outputs": [
        {
          "output_type": "stream",
          "name": "stdout",
          "text": [
            "Suma 5\n",
            "Resta 34\n",
            "Multiplicación 80.0\n",
            "División 7.5\n",
            "Potencia 3125\n"
          ]
        }
      ]
    },
    {
      "cell_type": "code",
      "metadata": {
        "colab": {
          "base_uri": "https://localhost:8080/"
        },
        "id": "zN6w4m4ACTFe",
        "outputId": "c989a225-ebd7-4054-aec3-0eabf459bbe6"
      },
      "source": [
        "#Operaciones matematicas basicas\n",
        "print(2/5)\n",
        "print(2.0/5)"
      ],
      "execution_count": null,
      "outputs": [
        {
          "output_type": "stream",
          "name": "stdout",
          "text": [
            "0.4\n",
            "0.4\n"
          ]
        }
      ]
    },
    {
      "cell_type": "markdown",
      "metadata": {
        "id": "muo3aZ9kB5EI"
      },
      "source": [
        "\n",
        "*  #  Data Collections\n"
      ]
    },
    {
      "cell_type": "code",
      "metadata": {
        "colab": {
          "base_uri": "https://localhost:8080/"
        },
        "id": "eHiA1qVWCrZT",
        "outputId": "3b2cd50c-bbb8-4366-a3b6-e6d43f7b03dc"
      },
      "source": [
        "#Lista - 1ero\n",
        "mi_lista = ['Neiva', 'Pitalito', 6,6,2]\n",
        "print(mi_lista)"
      ],
      "execution_count": null,
      "outputs": [
        {
          "output_type": "stream",
          "name": "stdout",
          "text": [
            "['Neiva', 'Pitalito', 6, 6, 2]\n"
          ]
        }
      ]
    },
    {
      "cell_type": "code",
      "metadata": {
        "colab": {
          "base_uri": "https://localhost:8080/"
        },
        "id": "CzJrTdd5EWNE",
        "outputId": "d5bb287c-b8a5-4211-d8c3-acfe54d75846"
      },
      "source": [
        "#2do\n",
        "mi_lista = ['Neiva', 'Pitalito', 6,6,2]\n",
        "print(len(mi_lista))\n",
        "print(mi_lista[0])\n",
        "print(mi_lista[len(mi_lista) -1])"
      ],
      "execution_count": null,
      "outputs": [
        {
          "output_type": "stream",
          "name": "stdout",
          "text": [
            "5\n",
            "Neiva\n",
            "2\n"
          ]
        }
      ]
    },
    {
      "cell_type": "code",
      "metadata": {
        "colab": {
          "base_uri": "https://localhost:8080/"
        },
        "id": "ZrBZ5vhbE7tM",
        "outputId": "91c2d2c7-faac-4146-eeb7-75a40d24543d"
      },
      "source": [
        "#3ero\n",
        "mi_lista = ['Neiva', 'Pitalito', 6,6,2]\n",
        "mi_lista[2] = 'Bogotá'\n",
        "print((mi_lista))"
      ],
      "execution_count": null,
      "outputs": [
        {
          "output_type": "stream",
          "name": "stdout",
          "text": [
            "['Neiva', 'Pitalito', 'Bogotá', 6, 2]\n"
          ]
        }
      ]
    },
    {
      "cell_type": "code",
      "metadata": {
        "colab": {
          "base_uri": "https://localhost:8080/"
        },
        "id": "k8MHG_hqFj1r",
        "outputId": "f1391e63-c95c-48b8-94a1-fa340983b3c4"
      },
      "source": [
        "#4to\n",
        "mi_lista = ['Neiva', 'Pitalito', 6,6,2]\n",
        "print(mi_lista[0:2])\n",
        "print(mi_lista[2:])\n",
        "print(mi_lista[:3])"
      ],
      "execution_count": null,
      "outputs": [
        {
          "output_type": "stream",
          "name": "stdout",
          "text": [
            "['Neiva', 'Pitalito']\n",
            "[6, 6, 2]\n",
            "['Neiva', 'Pitalito', 6]\n"
          ]
        }
      ]
    },
    {
      "cell_type": "code",
      "metadata": {
        "colab": {
          "base_uri": "https://localhost:8080/"
        },
        "id": "O-f0TTyGF4iL",
        "outputId": "40d70566-f9f6-492b-969b-513b2c628a7a"
      },
      "source": [
        "#5to\n",
        "mi_lista2 = ['Salut','tu','fais']\n",
        "mi_lista2.append('quoi')\n",
        "mi_lista2.append('?')\n",
        "print(mi_lista2)\n",
        "\n",
        "mi_lista2.remove(\"Salut\")\n",
        "print(mi_lista2)"
      ],
      "execution_count": null,
      "outputs": [
        {
          "output_type": "stream",
          "name": "stdout",
          "text": [
            "['Salut', 'tu', 'fais', 'quoi', '?']\n",
            "['tu', 'fais', 'quoi', '?']\n"
          ]
        }
      ]
    },
    {
      "cell_type": "markdown",
      "metadata": {
        "id": "lL68ve3KG8yz"
      },
      "source": [
        "\n",
        "*   # Tupla\n"
      ]
    },
    {
      "cell_type": "code",
      "metadata": {
        "colab": {
          "base_uri": "https://localhost:8080/"
        },
        "id": "5p2y72EEHC3x",
        "outputId": "e3cea478-25ae-4945-d0db-098e25b0822c"
      },
      "source": [
        "#Similares a las listas pero inmutable\n",
        "mi_tupla = ('Bienvenido','a','la', 'UNAL')\n",
        "print(mi_tupla[1:])"
      ],
      "execution_count": null,
      "outputs": [
        {
          "output_type": "stream",
          "name": "stdout",
          "text": [
            "('a', 'la', 'UNAL')\n"
          ]
        }
      ]
    },
    {
      "cell_type": "markdown",
      "metadata": {
        "id": "sBugIGDWICnZ"
      },
      "source": [
        "*   # Set"
      ]
    },
    {
      "cell_type": "code",
      "metadata": {
        "colab": {
          "base_uri": "https://localhost:8080/"
        },
        "id": "tfgX1bM1INqZ",
        "outputId": "e78d8287-93d3-405a-f598-6022499effab"
      },
      "source": [
        "aeropuertos = ['CDG', 'LAX', 'MEX', 'NVA', 'LAX', 'MEX', 'BOG']\n",
        "aeropuertos = set(aeropuertos)\n",
        "print(aeropuertos)"
      ],
      "execution_count": null,
      "outputs": [
        {
          "output_type": "stream",
          "name": "stdout",
          "text": [
            "{'BOG', 'CDG', 'NVA', 'MEX', 'LAX'}\n"
          ]
        }
      ]
    },
    {
      "cell_type": "markdown",
      "metadata": {
        "id": "RmbV5E3rKLKI"
      },
      "source": [
        "*   # Diccionario\n"
      ]
    },
    {
      "cell_type": "code",
      "metadata": {
        "colab": {
          "base_uri": "https://localhost:8080/"
        },
        "id": "aqGQeAUgJ2c6",
        "outputId": "d33654e4-02e6-406b-e4a5-89f28e62f5f1"
      },
      "source": [
        "FRANCES_ESPAÑOL = {'Salut':'Hola', 'Quoi': 'Que', 'Vrai': 'Verdad'}\n",
        "print(FRANCES_ESPAÑOL['Salut'])\n",
        "\n",
        "FRANCES_ESPAÑOL['Vrai'] = 'Cierto'\n",
        "print(FRANCES_ESPAÑOL['Vrai'])\n",
        "print(FRANCES_ESPAÑOL.keys())"
      ],
      "execution_count": null,
      "outputs": [
        {
          "output_type": "stream",
          "name": "stdout",
          "text": [
            "Hola\n",
            "Cierto\n",
            "dict_keys(['Salut', 'Quoi', 'Vrai'])\n"
          ]
        }
      ]
    },
    {
      "cell_type": "markdown",
      "metadata": {
        "id": "2cT-9XmmNJgE"
      },
      "source": [
        "*   # Operaciones comunes con Strings\n"
      ]
    },
    {
      "cell_type": "code",
      "metadata": {
        "colab": {
          "base_uri": "https://localhost:8080/"
        },
        "id": "AANpgzLyNU0m",
        "outputId": "73bad66c-86c3-4298-d3a5-3f10e67a2083"
      },
      "source": [
        "my_str = 'I dont want to say goodbye, i think we can do it if we try'\n",
        "print(my_str[28:])"
      ],
      "execution_count": null,
      "outputs": [
        {
          "output_type": "stream",
          "name": "stdout",
          "text": [
            "i think we can do it if we try\n"
          ]
        }
      ]
    },
    {
      "cell_type": "code",
      "metadata": {
        "colab": {
          "base_uri": "https://localhost:8080/"
        },
        "id": "4oidRhazOMqw",
        "outputId": "d8269f75-8e25-48a1-ef5d-6bfe7e0698c4"
      },
      "source": [
        "print(\"J'tombe amoureuse assez souvent\".count('e'))\n",
        "print(\"J'tombe amoureuse mais t'exagères\".find('e'))\n",
        "print(\"Ça s'entretient les sentiments\".replace('Ç','c'))"
      ],
      "execution_count": null,
      "outputs": [
        {
          "output_type": "stream",
          "name": "stdout",
          "text": [
            "5\n",
            "6\n",
            "ca s'entretient les sentiments\n"
          ]
        }
      ]
    },
    {
      "cell_type": "code",
      "metadata": {
        "colab": {
          "base_uri": "https://localhost:8080/"
        },
        "id": "F4XTCxN6PVL3",
        "outputId": "18637e12-93f0-49ba-b7a3-61f7d1b90cc9"
      },
      "source": [
        "#Tiempo\n",
        "Nacimiento = '2021-07-15 08:33:00'\n",
        "Lista_Dividida = Nacimiento.split(' ')\n",
        "Fecha = Lista_Dividida[0]\n",
        "Tiempo = Lista_Dividida[1]\n",
        "print(Fecha, Tiempo)\n",
        "Hora = Tiempo.split(':')[0]\n",
        "print(Hora)"
      ],
      "execution_count": null,
      "outputs": [
        {
          "output_type": "stream",
          "name": "stdout",
          "text": [
            "2021-07-15 08:33:00\n",
            "08\n"
          ]
        }
      ]
    },
    {
      "cell_type": "code",
      "metadata": {
        "colab": {
          "base_uri": "https://localhost:8080/"
        },
        "id": "-vx5GA2EQirm",
        "outputId": "17041f53-30da-499b-d4e8-d970304f0858"
      },
      "source": [
        "Hora_Nacimiento = 'Hora: {}, Minutos:{}'.format('08','33')\n",
        "print(Hora_Nacimiento)"
      ],
      "execution_count": null,
      "outputs": [
        {
          "output_type": "stream",
          "name": "stdout",
          "text": [
            "Hora: 08, Minutos:33\n"
          ]
        }
      ]
    },
    {
      "cell_type": "code",
      "metadata": {
        "colab": {
          "base_uri": "https://localhost:8080/"
        },
        "id": "M7ozThQyRGh9",
        "outputId": "d4c8bbcc-c62c-488a-c5a9-d36e69219b94"
      },
      "source": [
        "print('Mi edad es %f'%18.0)\n",
        "print('%s %s es %s'%('Mi','nombre', 'Gabriel'))"
      ],
      "execution_count": null,
      "outputs": [
        {
          "output_type": "stream",
          "name": "stdout",
          "text": [
            "Mi edad es 18.000000\n",
            "Mi nombre es Gabriel\n"
          ]
        }
      ]
    },
    {
      "cell_type": "markdown",
      "metadata": {
        "id": "goMYVG9cUQsO"
      },
      "source": [
        "## **02 Logical Operations and Loops**"
      ]
    },
    {
      "cell_type": "code",
      "metadata": {
        "id": "GoYI-Z8lWCzt"
      },
      "source": [
        "print(25 == 20)\n",
        "print(30 == 30)\n",
        "print(3 != 2)\n",
        "print(10 >= 10)\n",
        "print(3 >= 9)"
      ],
      "execution_count": null,
      "outputs": []
    },
    {
      "cell_type": "code",
      "metadata": {
        "colab": {
          "base_uri": "https://localhost:8080/"
        },
        "id": "F9vR3jcWWPKy",
        "outputId": "84af96a3-7dd3-44f4-fdd1-26db53140218"
      },
      "source": [
        "print(22 > 5 and 10 > 1)\n",
        "print(4 > 2 and 17 < 3) \n",
        "print(5 > 0 or 20 < 10)\n",
        "print(80 < 8 and 2 < 2)"
      ],
      "execution_count": null,
      "outputs": [
        {
          "output_type": "stream",
          "name": "stdout",
          "text": [
            "True\n",
            "False\n",
            "True\n",
            "False\n"
          ]
        }
      ]
    },
    {
      "cell_type": "code",
      "metadata": {
        "colab": {
          "base_uri": "https://localhost:8080/"
        },
        "id": "LsfgOCibdqgR",
        "outputId": "24988647-c0bd-417a-cea9-5052d1973a74"
      },
      "source": [
        "print(21 > 3 or 20 < 21 and (5!=3 and 7>2) and not ( 6 < 1 or 2 < 12 and (3!=1 and 57>56)))\n",
        "\n",
        "print((5 > 1 or 4 < 9) and (2!=2 and 7>6) and not ( 0 < 1 or 2 < 5 and (1!=5 and 2>1)))"
      ],
      "execution_count": null,
      "outputs": [
        {
          "output_type": "stream",
          "name": "stdout",
          "text": [
            "True\n",
            "False\n"
          ]
        }
      ]
    },
    {
      "cell_type": "markdown",
      "metadata": {
        "id": "iXjbNSJieqdR"
      },
      "source": [
        "\n",
        "\n",
        " * #  If Statement"
      ]
    },
    {
      "cell_type": "code",
      "metadata": {
        "colab": {
          "base_uri": "https://localhost:8080/"
        },
        "id": "s9GY7I8Qe0Tn",
        "outputId": "5bbb93a5-de2b-4e41-be42-9cff94e15fde"
      },
      "source": [
        "l = 25\n",
        "if l != 0:\n",
        "    print('l!=0 es True')"
      ],
      "execution_count": null,
      "outputs": [
        {
          "output_type": "stream",
          "name": "stdout",
          "text": [
            "l!=0 es True\n"
          ]
        }
      ]
    },
    {
      "cell_type": "code",
      "metadata": {
        "colab": {
          "base_uri": "https://localhost:8080/"
        },
        "id": "lRX94ITQhCP4",
        "outputId": "8da9fb96-eb22-4bc8-dd66-7fd29b8ecd6c"
      },
      "source": [
        "p = 10 > 30\n",
        "q =  15 < 150  \n",
        "if p and q:\n",
        "    print('p y q son True')\n",
        "elif p and not q:\n",
        "    print('q es False')\n",
        "elif q and not p:\n",
        "    print('p es False')\n",
        "else:\n",
        "    print('Ni p y q son True')"
      ],
      "execution_count": null,
      "outputs": [
        {
          "output_type": "stream",
          "name": "stdout",
          "text": [
            "p es False\n"
          ]
        }
      ]
    },
    {
      "cell_type": "markdown",
      "metadata": {
        "id": "3_-36PAYhlhu"
      },
      "source": [
        " * #  While Loop"
      ]
    },
    {
      "cell_type": "code",
      "metadata": {
        "colab": {
          "base_uri": "https://localhost:8080/"
        },
        "id": "RDzPn_07hn2N",
        "outputId": "f121747f-47d8-44b4-ed98-223b3eeb0680"
      },
      "source": [
        "l = 15\n",
        "while l < 55:\n",
        "  print(l)\n",
        "  l += 5"
      ],
      "execution_count": null,
      "outputs": [
        {
          "output_type": "stream",
          "name": "stdout",
          "text": [
            "15\n",
            "20\n",
            "25\n",
            "30\n",
            "35\n",
            "40\n",
            "45\n",
            "50\n"
          ]
        }
      ]
    },
    {
      "cell_type": "markdown",
      "metadata": {
        "id": "PGLd6yDZXUm5"
      },
      "source": [
        " * #  For Loop"
      ]
    },
    {
      "cell_type": "code",
      "metadata": {
        "colab": {
          "base_uri": "https://localhost:8080/"
        },
        "id": "nDAUDmcMXJBb",
        "outputId": "5a41591c-a9e4-4dde-968b-175d193cd790"
      },
      "source": [
        "vocales = ['a','e','i','o','u']\n",
        "for l in vocales:\n",
        "  print(l)"
      ],
      "execution_count": null,
      "outputs": [
        {
          "output_type": "stream",
          "name": "stdout",
          "text": [
            "a\n",
            "e\n",
            "i\n",
            "o\n",
            "u\n"
          ]
        }
      ]
    },
    {
      "cell_type": "code",
      "metadata": {
        "colab": {
          "base_uri": "https://localhost:8080/"
        },
        "id": "9P7qYc_EXppx",
        "outputId": "fb7bbba5-96bc-420f-9d93-39a79bad3282"
      },
      "source": [
        "aeropuertos = ['CDG', 'LAX', 'MEX', 'NVA', 'LAX', 'MEX', 'BOG']\n",
        "viaje = ['NVA','BOG']\n",
        "visitados = []\n",
        "for l in aeropuertos:\n",
        "  if l not in viaje:\n",
        "    visitados.append(l)\n",
        "print(visitados)"
      ],
      "execution_count": null,
      "outputs": [
        {
          "output_type": "stream",
          "name": "stdout",
          "text": [
            "['CDG', 'LAX', 'MEX', 'LAX', 'MEX']\n"
          ]
        }
      ]
    },
    {
      "cell_type": "markdown",
      "metadata": {
        "id": "RWHKcGlzY78j"
      },
      "source": [
        " * #  Break and continue"
      ]
    },
    {
      "cell_type": "code",
      "metadata": {
        "colab": {
          "base_uri": "https://localhost:8080/"
        },
        "id": "QXcrWnIwY3zy",
        "outputId": "17442904-837d-4e12-a6dd-e4faa304885a"
      },
      "source": [
        "aeropuertos = ['CDG', 'LAX', 'MEX', 'NVA', 'LAX', 'MEX', 'BOG']\n",
        "for l in aeropuertos:\n",
        "  print(l)\n",
        "  if l == 'NVA':\n",
        "    break"
      ],
      "execution_count": null,
      "outputs": [
        {
          "output_type": "stream",
          "name": "stdout",
          "text": [
            "CDG\n",
            "LAX\n",
            "MEX\n",
            "NVA\n"
          ]
        }
      ]
    },
    {
      "cell_type": "code",
      "metadata": {
        "colab": {
          "base_uri": "https://localhost:8080/"
        },
        "id": "B0Cx3UatcDYp",
        "outputId": "a61f55f7-79fa-4b6a-96b1-e0a17938e36e"
      },
      "source": [
        "aeropuertos = ['CDG', 'LAX', 'MEX', 'NVA', 'LAX', 'MEX', 'BOG']\n",
        "for l in aeropuertos:\n",
        "  if l == 'LAX' or l == 'MEX':\n",
        "    continue\n",
        "  print(l)"
      ],
      "execution_count": null,
      "outputs": [
        {
          "output_type": "stream",
          "name": "stdout",
          "text": [
            "CDG\n",
            "NVA\n",
            "BOG\n"
          ]
        }
      ]
    },
    {
      "cell_type": "markdown",
      "metadata": {
        "id": "vYfRlY5fdGR-"
      },
      "source": [
        " * #  List Comprehension"
      ]
    },
    {
      "cell_type": "code",
      "metadata": {
        "colab": {
          "base_uri": "https://localhost:8080/"
        },
        "id": "SGBrWd7pdsQr",
        "outputId": "80b8fcd5-7d2e-4b36-bdba-960abb38583f"
      },
      "source": [
        "squares_root = []\n",
        "for i in [25,49,64,81,121]:\n",
        "    squares_root.append(i**(1/2))\n",
        "print(squares_root)"
      ],
      "execution_count": null,
      "outputs": [
        {
          "output_type": "stream",
          "name": "stdout",
          "text": [
            "[5.0, 7.0, 8.0, 9.0, 11.0]\n"
          ]
        }
      ]
    },
    {
      "cell_type": "code",
      "metadata": {
        "colab": {
          "base_uri": "https://localhost:8080/"
        },
        "id": "LNeLKTxNeRzi",
        "outputId": "26bf14c7-b2fa-4b08-f794-9ce8ea9fdb72"
      },
      "source": [
        "numeros = [25,49,64,81,121]\n",
        "squares_root = [x**(1/2) for x in numeros]\n",
        "print(squares_root)"
      ],
      "execution_count": null,
      "outputs": [
        {
          "output_type": "stream",
          "name": "stdout",
          "text": [
            "[5.0, 7.0, 8.0, 9.0, 11.0]\n"
          ]
        }
      ]
    },
    {
      "cell_type": "code",
      "metadata": {
        "colab": {
          "base_uri": "https://localhost:8080/"
        },
        "id": "6fosWPc_euyG",
        "outputId": "6448d398-0957-4291-be1f-f0b911bf5c7f"
      },
      "source": [
        "aeropuertos = ['CDG', 'LAX', 'MEX', 'NVA', 'LAX', 'MEX', 'BOG']\n",
        "visitados = ['CDG','BOG','NVA','CUN']\n",
        "visitas = [x for x in visitados if x in aeropuertos]\n",
        "print(visitas)"
      ],
      "execution_count": null,
      "outputs": [
        {
          "output_type": "stream",
          "name": "stdout",
          "text": [
            "['CDG', 'BOG', 'NVA']\n"
          ]
        }
      ]
    },
    {
      "cell_type": "code",
      "metadata": {
        "colab": {
          "base_uri": "https://localhost:8080/"
        },
        "id": "r7ih8izDgYQi",
        "outputId": "3a47fe46-1a62-40fc-9d00-0f7889c89094"
      },
      "source": [
        "\n",
        "print([(x, y) for x in [6,1,6] for y in [9,3,6] if x != y])\n",
        "print([str(x)+' vs '+str(y) for x in ['CDG', 'LAX', 'MEX'] for y in ['NVA', 'LAX', 'MEX', 'BOG'] if x!=y])"
      ],
      "execution_count": null,
      "outputs": [
        {
          "output_type": "stream",
          "name": "stdout",
          "text": [
            "[(6, 9), (6, 3), (1, 9), (1, 3), (1, 6), (6, 9), (6, 3)]\n",
            "['CDG vs NVA', 'CDG vs LAX', 'CDG vs MEX', 'CDG vs BOG', 'LAX vs NVA', 'LAX vs MEX', 'LAX vs BOG', 'MEX vs NVA', 'MEX vs LAX', 'MEX vs BOG']\n"
          ]
        }
      ]
    },
    {
      "cell_type": "markdown",
      "metadata": {
        "id": "2TrkzqUoiqIk"
      },
      "source": [
        "*  ## **03 Functions and Objective-Oriented Programming**\n"
      ]
    },
    {
      "cell_type": "markdown",
      "metadata": {
        "id": "8RnS56pes_kg"
      },
      "source": [
        " *   # **Built-in Function**"
      ]
    },
    {
      "cell_type": "code",
      "metadata": {
        "colab": {
          "base_uri": "https://localhost:8080/"
        },
        "id": "-_k20abDi2iB",
        "outputId": "ce193fb8-29d0-4cff-b931-22ce309479f5"
      },
      "source": [
        "def product(x,y):\n",
        "    return x/y\n",
        "print(product(20, 5))\n",
        "print(product(50,10))"
      ],
      "execution_count": null,
      "outputs": [
        {
          "output_type": "stream",
          "name": "stdout",
          "text": [
            "4.0\n",
            "5.0\n"
          ]
        }
      ]
    },
    {
      "cell_type": "code",
      "metadata": {
        "colab": {
          "base_uri": "https://localhost:8080/"
        },
        "id": "05txBOKMj_hZ",
        "outputId": "77e49903-9f69-4bfc-ec39-939f48148bae"
      },
      "source": [
        "def te_amo():\n",
        "    print(\"Je t'aime\")\n",
        "te_amo()"
      ],
      "execution_count": null,
      "outputs": [
        {
          "output_type": "stream",
          "name": "stdout",
          "text": [
            "Je t'aime\n"
          ]
        }
      ]
    },
    {
      "cell_type": "code",
      "metadata": {
        "colab": {
          "base_uri": "https://localhost:8080/"
        },
        "id": "8tRidp5ukOB0",
        "outputId": "2206bbce-7d24-4a8e-be1a-07337348b50c"
      },
      "source": [
        "aeropuertos = ['CDG', 'LAX', 'MEX', 'NVA', 'LAX', 'MEX', 'BOG']\n",
        "print('Los aeropuertos visitados son {}'.format(len(aeropuertos)))\n",
        "for l in range(len(aeropuertos)):  \n",
        "  print(aeropuertos[l])"
      ],
      "execution_count": null,
      "outputs": [
        {
          "output_type": "stream",
          "name": "stdout",
          "text": [
            "Los aeropuertos visitados son 7\n",
            "CDG\n",
            "LAX\n",
            "MEX\n",
            "NVA\n",
            "LAX\n",
            "MEX\n",
            "BOG\n"
          ]
        }
      ]
    },
    {
      "cell_type": "code",
      "metadata": {
        "colab": {
          "base_uri": "https://localhost:8080/"
        },
        "id": "22dEwxbmk6vE",
        "outputId": "867b9020-556a-40c4-a1bb-8dac0be3ece5"
      },
      "source": [
        "#map -function that applies a function to every item and returns a list of the results.\n",
        "aeropuertos = ['CDG', 'LAX', 'MEX', 'NVA', 'LAX', 'MEX', 'BOG']\n",
        "print(list(map(len,aeropuertos)))\n",
        "\n",
        "rango= list(map(lambda x: x**3, range(10)))\n",
        "print(rango)\n",
        "\n",
        "dos_arrays = list(map(lambda x, y: x*y, [5,4,3,2,1],[9,8,7,6,5]))\n",
        "print(dos_arrays)\n",
        "\n",
        "dos_arrays= sorted(dos_arrays)\n",
        "print(dos_arrays)\n"
      ],
      "execution_count": null,
      "outputs": [
        {
          "output_type": "stream",
          "name": "stdout",
          "text": [
            "[3, 3, 3, 3, 3, 3, 3]\n",
            "[0, 1, 8, 27, 64, 125, 216, 343, 512, 729]\n",
            "[45, 32, 21, 12, 5]\n",
            "[5, 12, 21, 32, 45]\n"
          ]
        }
      ]
    },
    {
      "cell_type": "code",
      "metadata": {
        "colab": {
          "base_uri": "https://localhost:8080/"
        },
        "id": "PrEovykamJzd",
        "outputId": "dc1704b3-f861-40eb-aaed-afd67f1f4428"
      },
      "source": [
        "#Se puede agregar el parametro \"llave\"\n",
        "price_list = [('NVA-BOG',200),('BOG-MED',80),('BOG-CUN',600),('BOG-CTG',120)]\n",
        "print(sorted(price_list, key = lambda x: x[1]))\n",
        "print(sorted(price_list, key = lambda x: x[1],reverse = True))\n",
        "\n",
        "price_list.sort(key = lambda x: x[1])\n",
        "print(price_list)"
      ],
      "execution_count": null,
      "outputs": [
        {
          "output_type": "stream",
          "name": "stdout",
          "text": [
            "[('BOG-MED', 80), ('BOG-CTG', 120), ('NVA-BOG', 200), ('BOG-CUN', 600)]\n",
            "[('BOG-CUN', 600), ('NVA-BOG', 200), ('BOG-CTG', 120), ('BOG-MED', 80)]\n",
            "[('BOG-MED', 80), ('BOG-CTG', 120), ('NVA-BOG', 200), ('BOG-CUN', 600)]\n"
          ]
        }
      ]
    },
    {
      "cell_type": "markdown",
      "metadata": {
        "id": "RPPZGZ9_sanZ"
      },
      "source": [
        "\n",
        " *   # **POO**\n",
        "\n",
        "\n"
      ]
    },
    {
      "cell_type": "code",
      "metadata": {
        "colab": {
          "base_uri": "https://localhost:8080/"
        },
        "id": "OL9R2l5XpmqH",
        "outputId": "2fe87b12-7a0a-4b8a-f1ba-8437fea6a103"
      },
      "source": [
        "#Clase - Es un tipo de dato. Cuando creamos un objeto, lo llamamos instancia de la clase.\n",
        "#Los datos guardados dentro de un objeto son llamados atributos.\n",
        "#Las funciones asociadas a ese objeto se llaman metodos.\n",
        "import math\n",
        "class Punto:\n",
        "    #init method or constructor\n",
        "    def __init__(self, x= None, y = None):\n",
        "        self.x = x\n",
        "        self.y = y\n",
        "\n",
        " \n",
        "    def distancia_xy(self):\n",
        "        #dx = self.x[1] - self.x[0]\n",
        "        #dy = self.y[1] - self.y[0]\n",
        "        #return(math.sqrt(dx**2 + dx**2))\n",
        "        return((((self.x[1]-self.x[0])**2) + ((self.y[1]-self.y[0])**2)) ** (1/2))\n",
        "p1 = Punto([-1,3],[7,4])\n",
        "d1 = p1.distancia_xy()\n",
        "print(d1)\n",
        "#p1.ceo = (9,8)\n",
        "#p1.ceo\n",
        "#dir(p1)\n",
        "\n"
      ],
      "execution_count": 7,
      "outputs": [
        {
          "output_type": "stream",
          "name": "stdout",
          "text": [
            "5.0\n"
          ]
        }
      ]
    },
    {
      "cell_type": "markdown",
      "metadata": {
        "id": "HWZ4IrivBLKs"
      },
      "source": [
        " *   # **Herencia**"
      ]
    },
    {
      "cell_type": "code",
      "metadata": {
        "id": "ehqxe4wfDHqd"
      },
      "source": [
        "class area(Punto):\n",
        "     def __init__(self,z = None):\n",
        "        self.z = z \n",
        "p2 = area([5,9])\n"
      ],
      "execution_count": 8,
      "outputs": []
    },
    {
      "cell_type": "markdown",
      "metadata": {
        "id": "_qaNsjLJDmSV"
      },
      "source": [
        ""
      ]
    },
    {
      "cell_type": "markdown",
      "metadata": {
        "id": "dTw-Y0BgDnTN"
      },
      "source": [
        "## **04 NumPy and Basic Pandas**"
      ]
    },
    {
      "cell_type": "code",
      "metadata": {
        "colab": {
          "base_uri": "https://localhost:8080/"
        },
        "id": "3KZYiPSEDixi",
        "outputId": "d367d913-493b-44b8-cb1c-b714142e425a"
      },
      "source": [
        "import numpy as np\n",
        "precios = [50,70,260,935]\n",
        "lista_precios = np.array(precios)\n",
        "print(lista_precios, type(lista_precios))"
      ],
      "execution_count": 9,
      "outputs": [
        {
          "output_type": "stream",
          "name": "stdout",
          "text": [
            "[ 50  70 260 935] <class 'numpy.ndarray'>\n"
          ]
        }
      ]
    },
    {
      "cell_type": "code",
      "metadata": {
        "colab": {
          "base_uri": "https://localhost:8080/"
        },
        "id": "MLGMni6LEx46",
        "outputId": "c16fa715-9e4b-4e1f-a0a9-f66129bef83a"
      },
      "source": [
        "Dimensiones = np.array([[5,7],[3,9]])\n",
        "print(Dimensiones, type(Dimensiones))\n",
        "\n",
        "print(Dimensiones.shape)\n",
        "\n",
        "print(Dimensiones[0])\n",
        "print(Dimensiones[1])\n",
        "\n",
        "print('La primera columna: ', Dimensiones[:,0])\n",
        "print('La segunda columna: ', Dimensiones[:,1])"
      ],
      "execution_count": 16,
      "outputs": [
        {
          "output_type": "stream",
          "name": "stdout",
          "text": [
            "[[5 7]\n",
            " [3 9]] <class 'numpy.ndarray'>\n",
            "(2, 2)\n",
            "[5 7]\n",
            "[3 9]\n",
            "La primera columna:  [5 3]\n",
            "La segunda columna:  [7 9]\n"
          ]
        }
      ]
    },
    {
      "cell_type": "markdown",
      "metadata": {
        "id": "5r7FgKHpFjKB"
      },
      "source": [
        " *   # **Array Functions**\n"
      ]
    },
    {
      "cell_type": "code",
      "metadata": {
        "colab": {
          "base_uri": "https://localhost:8080/"
        },
        "id": "ZttYaWiVFtMx",
        "outputId": "45378c91-c85a-4844-d8a0-3b8b2c1d4b40"
      },
      "source": [
        "print(np.log(precios))\n",
        "print(np.mean(precios))\n",
        "print(np.std(precios))\n",
        "print(np.sum(precios))\n",
        "print(np.max(precios))"
      ],
      "execution_count": 18,
      "outputs": [
        {
          "output_type": "stream",
          "name": "stdout",
          "text": [
            "[3.91202301 4.24849524 5.56068163 6.84054653]\n",
            "328.75\n",
            "359.4853091574119\n",
            "1315\n",
            "935\n"
          ]
        }
      ]
    },
    {
      "cell_type": "markdown",
      "metadata": {
        "id": "5y0N9uhXGCta"
      },
      "source": [
        " *   # **Pandas**\n"
      ]
    },
    {
      "cell_type": "code",
      "metadata": {
        "colab": {
          "base_uri": "https://localhost:8080/"
        },
        "id": "wlcYIR9zGGOB",
        "outputId": "b15f7cbb-e799-470a-92c6-e2c21c2467ab"
      },
      "source": [
        "import pandas as pd\n",
        "masa = [55,58,60,75,64,45]\n",
        "s = pd.Series(masa)\n",
        "s"
      ],
      "execution_count": 22,
      "outputs": [
        {
          "output_type": "execute_result",
          "data": {
            "text/plain": [
              "0    55\n",
              "1    58\n",
              "2    60\n",
              "3    75\n",
              "4    64\n",
              "5    45\n",
              "dtype: int64"
            ]
          },
          "metadata": {},
          "execution_count": 22
        }
      ]
    },
    {
      "cell_type": "code",
      "metadata": {
        "colab": {
          "base_uri": "https://localhost:8080/"
        },
        "id": "Cg_PTFhkGVeY",
        "outputId": "4df8a965-4e82-43be-b340-fb2560acb50a"
      },
      "source": [
        "s = pd.Series(masa,index = ['a','b','c','d','e','f'])\n",
        "s"
      ],
      "execution_count": 23,
      "outputs": [
        {
          "output_type": "execute_result",
          "data": {
            "text/plain": [
              "a    55\n",
              "b    58\n",
              "c    60\n",
              "d    75\n",
              "e    64\n",
              "f    45\n",
              "dtype: int64"
            ]
          },
          "metadata": {},
          "execution_count": 23
        }
      ]
    },
    {
      "cell_type": "code",
      "metadata": {
        "colab": {
          "base_uri": "https://localhost:8080/"
        },
        "id": "f4Ck4rbWGcCJ",
        "outputId": "b8d62b71-b2d7-455b-f851-003df71d39e3"
      },
      "source": [
        "s.index = [6,5,4,3,2,1]\n",
        "s"
      ],
      "execution_count": 24,
      "outputs": [
        {
          "output_type": "execute_result",
          "data": {
            "text/plain": [
              "6    55\n",
              "5    58\n",
              "4    60\n",
              "3    75\n",
              "2    64\n",
              "1    45\n",
              "dtype: int64"
            ]
          },
          "metadata": {},
          "execution_count": 24
        }
      ]
    },
    {
      "cell_type": "code",
      "metadata": {
        "colab": {
          "base_uri": "https://localhost:8080/"
        },
        "id": "JJEu3fMyGfVg",
        "outputId": "2a494005-b336-4977-dcd7-df8b702cd8a9"
      },
      "source": [
        "print(s[2:])\n",
        "print(s[:-3])"
      ],
      "execution_count": 26,
      "outputs": [
        {
          "output_type": "stream",
          "name": "stdout",
          "text": [
            "4    60\n",
            "3    75\n",
            "2    64\n",
            "1    45\n",
            "dtype: int64\n",
            "6    55\n",
            "5    58\n",
            "4    60\n",
            "dtype: int64\n"
          ]
        }
      ]
    },
    {
      "cell_type": "code",
      "metadata": {
        "colab": {
          "base_uri": "https://localhost:8080/"
        },
        "id": "4J5mIZwrGlwY",
        "outputId": "464e2c5c-55ba-4f92-c61c-f1f062028369"
      },
      "source": [
        "print(s[2])\n",
        "s[2] = 87\n",
        "print(s)"
      ],
      "execution_count": 27,
      "outputs": [
        {
          "output_type": "stream",
          "name": "stdout",
          "text": [
            "64\n",
            "6    55\n",
            "5    58\n",
            "4    60\n",
            "3    75\n",
            "2    87\n",
            "1    45\n",
            "dtype: int64\n"
          ]
        }
      ]
    },
    {
      "cell_type": "code",
      "metadata": {
        "colab": {
          "base_uri": "https://localhost:8080/"
        },
        "id": "iDkcHIxUGr6Y",
        "outputId": "499fca9c-afe3-4588-fad8-a4ab8249fcd8"
      },
      "source": [
        "s = pd.Series(masa, name = 'Masa de vecinos del piso 7')\n",
        "print(s)\n",
        "print(s.name)\n",
        "print(s.describe())"
      ],
      "execution_count": 29,
      "outputs": [
        {
          "output_type": "stream",
          "name": "stdout",
          "text": [
            "0    55\n",
            "1    58\n",
            "2    60\n",
            "3    75\n",
            "4    64\n",
            "5    45\n",
            "Name: Masa de vecinos del piso 7, dtype: int64\n",
            "Masa de vecinos del piso 7\n",
            "count     6.000000\n",
            "mean     59.500000\n",
            "std       9.934787\n",
            "min      45.000000\n",
            "25%      55.750000\n",
            "50%      59.000000\n",
            "75%      63.000000\n",
            "max      75.000000\n",
            "Name: Masa de vecinos del piso 7, dtype: float64\n"
          ]
        }
      ]
    },
    {
      "cell_type": "markdown",
      "metadata": {
        "id": "wWJY6zGsG5Jc"
      },
      "source": [
        " *   # **Time Index**\n"
      ]
    },
    {
      "cell_type": "code",
      "metadata": {
        "colab": {
          "base_uri": "https://localhost:8080/"
        },
        "id": "6OD3NAJQG9zo",
        "outputId": "6c42697d-17b5-4007-f6af-2cf87f676545"
      },
      "source": [
        "time_index = pd.date_range('2021-10-15',periods = len(s),freq = 'D')\n",
        "print(time_index)\n",
        "s.index = time_index\n",
        "print(s)"
      ],
      "execution_count": 32,
      "outputs": [
        {
          "output_type": "stream",
          "name": "stdout",
          "text": [
            "DatetimeIndex(['2021-10-15', '2021-10-16', '2021-10-17', '2021-10-18',\n",
            "               '2021-10-19', '2021-10-20'],\n",
            "              dtype='datetime64[ns]', freq='D')\n",
            "2021-10-15    55\n",
            "2021-10-16    58\n",
            "2021-10-17    60\n",
            "2021-10-18    75\n",
            "2021-10-19    64\n",
            "2021-10-20    45\n",
            "Freq: D, Name: Masa de vecinos del piso 7, dtype: int64\n"
          ]
        }
      ]
    },
    {
      "cell_type": "code",
      "metadata": {
        "colab": {
          "base_uri": "https://localhost:8080/"
        },
        "id": "vZIu-lGcHKNA",
        "outputId": "07a8780f-0a4e-4e23-b6b3-d05858288726"
      },
      "source": [
        "s.index = [6,5,4,3,2,1]\n",
        "print(s)\n",
        "print(s[3])"
      ],
      "execution_count": 33,
      "outputs": [
        {
          "output_type": "stream",
          "name": "stdout",
          "text": [
            "6    55\n",
            "5    58\n",
            "4    60\n",
            "3    75\n",
            "2    64\n",
            "1    45\n",
            "Name: Masa de vecinos del piso 7, dtype: int64\n",
            "75\n"
          ]
        }
      ]
    },
    {
      "cell_type": "code",
      "metadata": {
        "colab": {
          "base_uri": "https://localhost:8080/"
        },
        "id": "w2rQ8rohHN1Z",
        "outputId": "af3caae1-0797-4603-dcb2-4fdb4d6c672f"
      },
      "source": [
        "print(s.iloc[3])"
      ],
      "execution_count": 34,
      "outputs": [
        {
          "output_type": "stream",
          "name": "stdout",
          "text": [
            "75\n"
          ]
        }
      ]
    },
    {
      "cell_type": "code",
      "metadata": {
        "colab": {
          "base_uri": "https://localhost:8080/"
        },
        "id": "9IVcORm2HTaY",
        "outputId": "1f3944bc-1415-4ca1-b942-c44eeda5b30c"
      },
      "source": [
        "s.index = time_index\n",
        "print(s['2021-10-20'])"
      ],
      "execution_count": 35,
      "outputs": [
        {
          "output_type": "stream",
          "name": "stdout",
          "text": [
            "45\n"
          ]
        }
      ]
    },
    {
      "cell_type": "code",
      "metadata": {
        "colab": {
          "base_uri": "https://localhost:8080/"
        },
        "id": "MZnIC4pyHXmY",
        "outputId": "b97a7cd7-360a-434f-886d-ac64fb2b08d5"
      },
      "source": [
        "print(s['2021-10-16':'2021-10-19'])"
      ],
      "execution_count": 36,
      "outputs": [
        {
          "output_type": "stream",
          "name": "stdout",
          "text": [
            "2021-10-16    58\n",
            "2021-10-17    60\n",
            "2021-10-18    75\n",
            "2021-10-19    64\n",
            "Freq: D, Name: Masa de vecinos del piso 7, dtype: int64\n"
          ]
        }
      ]
    },
    {
      "cell_type": "code",
      "metadata": {
        "colab": {
          "base_uri": "https://localhost:8080/"
        },
        "id": "We1lG3gkHg3Q",
        "outputId": "dbea0eec-c082-4214-87fc-697107339625"
      },
      "source": [
        "print(s[s < np.mean(s)] )\n",
        "print([(s > np.mean(s)) & (s < np.mean(s) + 1.64*np.std(s))])"
      ],
      "execution_count": 37,
      "outputs": [
        {
          "output_type": "stream",
          "name": "stdout",
          "text": [
            "2021-10-15    55\n",
            "2021-10-16    58\n",
            "2021-10-20    45\n",
            "Name: Masa de vecinos del piso 7, dtype: int64\n",
            "[2021-10-15    False\n",
            "2021-10-16    False\n",
            "2021-10-17     True\n",
            "2021-10-18    False\n",
            "2021-10-19     True\n",
            "2021-10-20    False\n",
            "Freq: D, Name: Masa de vecinos del piso 7, dtype: bool]\n"
          ]
        }
      ]
    }
  ]
}
